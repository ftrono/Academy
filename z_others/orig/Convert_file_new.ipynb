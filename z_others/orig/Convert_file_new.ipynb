{
 "cells": [
  {
   "cell_type": "code",
   "execution_count": 4,
   "metadata": {},
   "outputs": [],
   "source": [
    "import os, math, random\n",
    "import numpy as np\n",
    "import pandas as pd\n",
    "from datetime import datetime\n",
    "import matplotlib.dates as md\n",
    "import matplotlib.pyplot as plt\n",
    "from sklearn.model_selection import train_test_split\n",
    "import warnings\n",
    "\n",
    "warnings.filterwarnings(\"ignore\")"
   ]
  },
  {
   "attachments": {},
   "cell_type": "markdown",
   "metadata": {},
   "source": [
    "-------------------\n",
    "# INIT"
   ]
  },
  {
   "cell_type": "code",
   "execution_count": 5,
   "metadata": {},
   "outputs": [],
   "source": [
    "DATADIR=\"original_datas\"\n",
    "EXPORT=\"datas\"\n",
    "household_list=[\"building4\",\"building5\",\"building7\"]\n",
    "\n",
    "device_dict_4={\"000D6F00029C2AEB\":\"total_outlets\",\"000D6F0003561F98\":\"total_lights\",\"000D6F0003562DF4\":\"TV_kitchen\"\n",
    "             ,\"000D6F000353AE48\":\"TV_living_room\",\"000D6F00029C2934\":\"fridge_w_freezer\",\"000D6F0003562CA8\":\"electric_oven\"\n",
    "             ,\"000D6F0003562D88\":\"PC_w_printer\",\"000D6F0003562C9D\":\"washing_machine\",\n",
    "             \"000D6F00029C1C2B\":\"hood\"}\n",
    "\n",
    "device_dict_5={\"000D6F00029C2918\":\"TV_plasma\",\"000D6F00029C286E\":\"lamp\",\"000D6F00029C44E4\":\"toaster\"\n",
    "             ,\"000D6F00029C46A3\":\"stove\",\"000D6F00029C246A\":\"iron\",\"000D6F00029C24E1\":\"PC_w_printer\"\n",
    "             ,\"000D6F00029C46A6\":\"TV_LCD\",\"000D6F00029C271E\":\"washing_machine\",\n",
    "             \"000D6F00029C46A4\":\"fridge_w_freezer\"}\n",
    "\n",
    "device_dict_7={\"000D6F00029C2542\":\"TV_w_decoder\",\"000D6F00036BC42A\":\"electric_oven\",\"000D6F0003BD8082\":\"dishwasher\"\n",
    "             ,\"000D6F0003BD8C8E\":\"hood\",\"000D6F0003BD76C4\":\"fridge_w_freezer\",\"000D6F0003BD8103\":\"TV_kitchen\"\n",
    "             ,\"000D6F0003BD8293\":\"ADSL_modem\",\"000D6F0003BD6E92\":\"freezer\",\n",
    "             \"000D6F0003B9C636\":\"PC_w_printer\"}\n",
    "\n",
    "device_dicts=[device_dict_4,device_dict_5,device_dict_7]"
   ]
  },
  {
   "attachments": {},
   "cell_type": "markdown",
   "metadata": {},
   "source": [
    "------------------\n",
    "# Extrapolate datas"
   ]
  },
  {
   "cell_type": "code",
   "execution_count": 6,
   "metadata": {},
   "outputs": [
    {
     "name": "stdout",
     "output_type": "stream",
     "text": [
      "building4\n",
      "Current file: 265/265                 \n",
      "\n",
      "building5\n",
      "Current file: 393/393                 \n",
      "\n",
      "building7\n",
      "Current file: 132/132                 \n",
      "\n",
      "Extraction complete!\n"
     ]
    }
   ],
   "source": [
    "for idx,household in enumerate(household_list):\n",
    "    print(household)\n",
    "    device_code=[code for code in device_dicts[idx].keys()]\n",
    "    device_name=[value for value in device_dicts[idx].values()]\n",
    "\n",
    "    files=os.listdir(f\"{DATADIR}/{household}\")\n",
    "\n",
    "    total_file=pd.read_csv(f\"{DATADIR}/{household}/{files[1]}\")\n",
    "    total_file.drop(total_file[(total_file['timestamp'] == 'timestamp') | (total_file['timestamp'].isna())].index, inplace=True)\n",
    "    total_file['timestamp'] = total_file['timestamp'].apply(lambda x: datetime.fromtimestamp(float(x)))\n",
    "    total_file.set_index(\"timestamp\", drop=True, inplace=True)\n",
    "    total_file=total_file[device_code]\n",
    "    total_file.columns=[device_dicts[idx][columns] for columns in total_file.columns]\n",
    "    tots = len(files[2:])\n",
    "\n",
    "    i=0\n",
    "    for file in files[2:]:\n",
    "        i+=1\n",
    "        print(f\"Current file: {i}/{tots}\", end=\"                 \\r\")\n",
    "        single_file=pd.read_csv(f\"{DATADIR}/{household}/{file}\",usecols=range(len(device_code)+1))\n",
    "        single_file.drop(single_file[(single_file['timestamp'] == 'timestamp') | (single_file['timestamp'].isna())].index, inplace=True)\n",
    "        single_file['timestamp'] = single_file['timestamp'].apply(lambda x: datetime.fromtimestamp(float(x)))\n",
    "        single_file.set_index(\"timestamp\", drop=True, inplace=True)\n",
    "        single_file=single_file[device_code]\n",
    "        single_file.columns=[device_dicts[idx][columns] for columns in single_file.columns]\n",
    "        total_file=pd.concat([total_file,single_file])\n",
    "    \n",
    "    total_file.replace({r\"^[ ]*[0-9]*[.][0-9]*[.][0-9]*[ ]*$\": 0}, inplace=True, regex=True)\n",
    "    total_file.replace({r\"[a-zA-Z]\": 0}, inplace=True, regex=True)\n",
    "    total_file.fillna(0,inplace=True)\n",
    "    total_file.sort_index(inplace=True)\n",
    "    total_file=total_file.astype(float)\n",
    "    #Data is active power (W) for every second: resample to calculate average active power (W) for every minute:\n",
    "    total_file=total_file.resample(\"60S\").mean()\n",
    "    #print(total_file.head(10))\n",
    "    \n",
    "    if not os.path.isdir(f\"{EXPORT}/{household}\"):\n",
    "        os.mkdir(f\"{EXPORT}/{household}\")\n",
    "\n",
    "    for device in device_name:\n",
    "        #convert values from W (per minute) to kWh -> FORMULA: W / 1000 * (1 / 60)\n",
    "        total_file[device] = total_file[device].apply(lambda x: x/1000/60)\n",
    "        total_file[device].to_csv(f\"{EXPORT}/{household}/{device}.csv\")\n",
    "    \n",
    "    print(\"\\n\")\n",
    "    \n",
    "print(\"Extraction complete!\")"
   ]
  }
 ],
 "metadata": {
  "kernelspec": {
   "display_name": "base",
   "language": "python",
   "name": "python3"
  },
  "language_info": {
   "codemirror_mode": {
    "name": "ipython",
    "version": 3
   },
   "file_extension": ".py",
   "mimetype": "text/x-python",
   "name": "python",
   "nbconvert_exporter": "python",
   "pygments_lexer": "ipython3",
   "version": "3.9.13"
  },
  "orig_nbformat": 4
 },
 "nbformat": 4,
 "nbformat_minor": 2
}
