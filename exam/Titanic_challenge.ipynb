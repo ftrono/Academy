{
  "cells": [
    {
      "cell_type": "code",
      "execution_count": null,
      "metadata": {
        "id": "Vnc-vDQHKFGX"
      },
      "outputs": [],
      "source": [
        "# Accept competition\n",
        "# move here kaggle.json"
      ]
    },
    {
      "cell_type": "code",
      "execution_count": null,
      "metadata": {
        "id": "QAvS7QjMKQDE"
      },
      "outputs": [],
      "source": [
        "!mkdir ~/.kaggle\n",
        "!mv kaggle.json ~/.kaggle\n",
        "!chmod 600 ~/.kaggle/kaggle.json"
      ]
    },
    {
      "cell_type": "code",
      "execution_count": 4,
      "metadata": {
        "colab": {
          "base_uri": "https://localhost:8080/"
        },
        "id": "jn07aGu_KfMo",
        "outputId": "02bb2eb2-28db-4e31-cf79-eb76f70705f3"
      },
      "outputs": [
        {
          "name": "stdout",
          "output_type": "stream",
          "text": [
            "titanic.zip: Skipping, found more recently modified local copy (use --force to force download)\n"
          ]
        }
      ],
      "source": [
        "!pip install -q kaggle\n",
        "!chmod 600 ~/.kaggle/kaggle.json\n",
        "!kaggle competitions download -c titanic"
      ]
    },
    {
      "cell_type": "code",
      "execution_count": null,
      "metadata": {
        "colab": {
          "base_uri": "https://localhost:8080/"
        },
        "id": "yd6MAlpAKjPN",
        "outputId": "5fdb4d40-6a41-4d58-9ffb-2684e1ad2d10"
      },
      "outputs": [
        {
          "name": "stdout",
          "output_type": "stream",
          "text": [
            "Archive:  titanic.zip\n",
            "  inflating: gender_submission.csv   \n",
            "  inflating: test.csv                \n",
            "  inflating: train.csv               \n"
          ]
        }
      ],
      "source": [
        "!unzip titanic.zip"
      ]
    },
    {
      "cell_type": "code",
      "execution_count": null,
      "metadata": {
        "colab": {
          "base_uri": "https://localhost:8080/"
        },
        "id": "dyp89-cYN_1Y",
        "outputId": "dd0b6daa-43f8-4768-a46b-03fbe24101e6"
      },
      "outputs": [
        {
          "data": {
            "text/plain": [
              "891"
            ]
          },
          "execution_count": 5,
          "metadata": {},
          "output_type": "execute_result"
        }
      ],
      "source": [
        "import pandas as pd\n",
        "data = pd.read_csv('train.csv')\n",
        "len(data)"
      ]
    },
    {
      "cell_type": "markdown",
      "metadata": {
        "id": "GzmppgIwOgGC"
      },
      "source": [
        "**Nota °1**: il dataset contiene della variabili categoriche e potrebbe contenere valori mancanti.\n",
        "\n",
        "**Nota °2**: una volta alleanto il modello, prima di fare la predizione sul test set, è necessario applicare su di esso le stesse trasformazioni che sono state appllicate sul test set (quindi ad esempio la trasformazione delle variabile categoriche in numeri, ecc.).\n",
        "\n",
        "**Nota °3**: si hanno solo due submissions giornaliere su Kaggle. Quindi, prima di fare una submission, cercate di fare il modello migliore che riuscite. Per farlo, potete suddividere il training set in train-val-test e allenare diversi modelli applicando l'hyperparameter tuning su ognuno e valutarne il migliore e submittare quello. Per avere una performace più accurata, potete applicare K-Fold Cross-Validation.\n",
        "Avvalersi anche di plot e dati statistici per ispezionare il dataset e cercare di capire se qualche feature è più o meno importante di altre."
      ]
    },
    {
      "cell_type": "code",
      "execution_count": null,
      "metadata": {
        "id": "AZ12oBUwQM7R"
      },
      "outputs": [],
      "source": []
    },
    {
      "cell_type": "code",
      "execution_count": null,
      "metadata": {
        "id": "WO_P-r7JQM_K"
      },
      "outputs": [],
      "source": []
    },
    {
      "cell_type": "code",
      "execution_count": null,
      "metadata": {
        "id": "HwIFWV1GQNCt"
      },
      "outputs": [],
      "source": []
    },
    {
      "cell_type": "code",
      "execution_count": null,
      "metadata": {
        "id": "Vy63DtWtQNEZ"
      },
      "outputs": [],
      "source": []
    },
    {
      "cell_type": "code",
      "execution_count": null,
      "metadata": {
        "id": "yx6t9SMvQNGE"
      },
      "outputs": [],
      "source": []
    },
    {
      "cell_type": "code",
      "execution_count": null,
      "metadata": {
        "id": "hkM95hUHQNID"
      },
      "outputs": [],
      "source": []
    },
    {
      "cell_type": "markdown",
      "metadata": {
        "id": "IJW6_JveLjts"
      },
      "source": [
        "### Creazione del file per il submit della competition"
      ]
    },
    {
      "cell_type": "code",
      "execution_count": null,
      "metadata": {
        "id": "6fUOowpNOLzr"
      },
      "outputs": [],
      "source": [
        "# PassengerId: a list of test set PassengerId\n",
        "# y_pred: prediction for each PassengerId within the test set\n",
        "# Create a DataFrame for the submission\n",
        "submission_df = pd.DataFrame({'PassengerId': PassengerId, 'Survived': y_pred})\n",
        "\n",
        "# Save the DataFrame to a CSV file\n",
        "submission_df.to_csv('predictions.csv', index=False)"
      ]
    },
    {
      "cell_type": "markdown",
      "metadata": {
        "id": "A4jWY-vWLVoy"
      },
      "source": [
        "### Submit predictions su Kaggle"
      ]
    },
    {
      "cell_type": "code",
      "execution_count": null,
      "metadata": {
        "colab": {
          "base_uri": "https://localhost:8080/"
        },
        "id": "EP1vIbnpLT1N",
        "outputId": "77f270c0-d428-4f49-93f2-d0b4dde8121d"
      },
      "outputs": [
        {
          "name": "stdout",
          "output_type": "stream",
          "text": [
            "Successfully submitted to Titanic - Machine Learning from Disaster"
          ]
        }
      ],
      "source": [
        "!kaggle competitions submit -f '/content/predictions.csv' -m 'test_01' -q titanic"
      ]
    }
  ],
  "metadata": {
    "colab": {
      "provenance": []
    },
    "kernelspec": {
      "display_name": "Python 3",
      "name": "python3"
    },
    "language_info": {
      "codemirror_mode": {
        "name": "ipython",
        "version": 3
      },
      "file_extension": ".py",
      "mimetype": "text/x-python",
      "name": "python",
      "nbconvert_exporter": "python",
      "pygments_lexer": "ipython3",
      "version": "3.10.6"
    }
  },
  "nbformat": 4,
  "nbformat_minor": 0
}
