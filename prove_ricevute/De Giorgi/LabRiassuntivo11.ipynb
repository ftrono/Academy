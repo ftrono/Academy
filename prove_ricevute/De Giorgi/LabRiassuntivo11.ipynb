{
  "nbformat": 4,
  "nbformat_minor": 0,
  "metadata": {
    "colab": {
      "provenance": []
    },
    "kernelspec": {
      "name": "python3",
      "display_name": "Python 3"
    },
    "language_info": {
      "name": "python"
    }
  },
  "cells": [
    {
      "cell_type": "code",
      "execution_count": 79,
      "metadata": {
        "colab": {
          "base_uri": "https://localhost:8080/"
        },
        "id": "o6ifcVWJpIYg",
        "outputId": "a1056dd9-3f73-475f-93e2-23b081c5bf1b"
      },
      "outputs": [
        {
          "output_type": "stream",
          "name": "stdout",
          "text": [
            "Drive already mounted at /content/drive/; to attempt to forcibly remount, call drive.mount(\"/content/drive/\", force_remount=True).\n",
            "/content/drive/My Drive/Lab_Python\n"
          ]
        }
      ],
      "source": [
        "from google.colab import drive, files\n",
        "\n",
        "drive.mount(\"/content/drive/\",force_remount=False)\n",
        "\n",
        "#home directory:\n",
        "%cd \"/content/drive/My Drive/Lab_Python\"\n"
      ]
    },
    {
      "cell_type": "code",
      "source": [
        "#punto1\n",
        "\n",
        "dataset = \"./Dataset/sample_corpus.txt\"\n",
        "\n",
        "myfile= open(dataset, 'r')\n",
        "conteggiofrasi=0\n",
        "corpuslist= []\n",
        "paroletot=0\n",
        "conteggiomedio=0\n",
        "\n",
        "for line in myfile:\n",
        "  linecorretta=line.strip()\n",
        "  linecorretta=linecorretta.lower()\n",
        "  linelist= linecorretta.split()\n",
        "\n",
        "\n",
        "  corpuslist.append(linelist)\n",
        "#conteggiofrasi\n",
        "for el in corpuslist:\n",
        "   conteggiofrasi +=1\n",
        "\n",
        "\n",
        "\n",
        "#conteggioparole\n",
        "for i in corpuslist:\n",
        "  paroletot += len(i)\n",
        "\n",
        "\n",
        "\n",
        "#conteggiomedio\n",
        "\n",
        "\n",
        "conteggiomedio= paroletot / conteggiofrasi\n",
        "\n",
        "\n",
        "\n",
        "myfile.close()\n",
        "\n",
        "print(conteggiofrasi)\n",
        "print(paroletot)\n",
        "print(conteggiomedio)"
      ],
      "metadata": {
        "colab": {
          "base_uri": "https://localhost:8080/"
        },
        "id": "AjZMTGZFuiYN",
        "outputId": "9f61e9e8-179d-47fe-ea00-e98093ceb2e1"
      },
      "execution_count": 80,
      "outputs": [
        {
          "output_type": "stream",
          "name": "stdout",
          "text": [
            "724\n",
            "8863\n",
            "12.241712707182321\n"
          ]
        }
      ]
    },
    {
      "cell_type": "code",
      "source": [
        "#punto 2\n",
        "import re\n",
        "vocab= []\n",
        "\n",
        "\n",
        "for frase in corpuslist:\n",
        "  for parola in frase:\n",
        "    if parola not in vocab:\n",
        "      vocab.append(parola)\n",
        "\n",
        "\n",
        "\n",
        "\n",
        "vocab[:20]\n",
        "\n",
        "\n",
        "\n"
      ],
      "metadata": {
        "id": "Xjxd_nsru9HD"
      },
      "execution_count": null,
      "outputs": []
    },
    {
      "cell_type": "code",
      "source": [
        "\n",
        "frequenza={}\n",
        "\n",
        "for frase  in corpuslist:\n",
        "  for parola in frase:\n",
        "    if parola not  in frequenza.keys():\n",
        "      frequenza[parola]= 1\n",
        "    else:\n",
        "      frequenza[parola]+=1\n",
        "\n",
        "\n",
        "\n",
        "frequenza\n"
      ],
      "metadata": {
        "id": "cDoE2Vvc_UVN"
      },
      "execution_count": null,
      "outputs": []
    },
    {
      "cell_type": "code",
      "source": [
        "\n",
        "vocab_length = len(vocab)\n",
        "print(vocab_length)"
      ],
      "metadata": {
        "colab": {
          "base_uri": "https://localhost:8080/"
        },
        "id": "wfZQJouCEmJI",
        "outputId": "0ab233d5-12c4-4269-d96e-df09879a61c1"
      },
      "execution_count": 83,
      "outputs": [
        {
          "output_type": "stream",
          "name": "stdout",
          "text": [
            "2601\n"
          ]
        }
      ]
    },
    {
      "cell_type": "code",
      "source": [
        "Freque=[]\n",
        "\n",
        "for el in frequenza:\n",
        "  Freque.append(frequenza.get(el))\n",
        "\n",
        "\n",
        "#Frequenze minime e massime\n",
        "\n",
        "for el in frequenza:\n",
        "  if frequenza.get(el)==min(Freque):\n",
        "    print(f'{el}  {frequenza.get(el)}')\n",
        "\n",
        "for el in frequenza:\n",
        "  if frequenza.get(el)==max(Freque):\n",
        "    print(f'{el}   {frequenza.get(el)}')"
      ],
      "metadata": {
        "id": "auFj3NvQIaak"
      },
      "execution_count": null,
      "outputs": []
    },
    {
      "cell_type": "code",
      "source": [
        "\n",
        "ordine= list(frequenza.keys())\n",
        "ordinecontrario= list(frequenza.keys())\n",
        "\n",
        "\n",
        "ordine.sort(reverse=True)\n",
        "ordinecontrario=sorted(ordine)\n",
        "\n",
        "\n",
        "print(ordinecontrario)\n",
        "print(ordine)"
      ],
      "metadata": {
        "colab": {
          "base_uri": "https://localhost:8080/"
        },
        "id": "Wu-znHCRRWfu",
        "outputId": "f43f7295-5688-470c-8345-23321383d009"
      },
      "execution_count": 113,
      "outputs": [
        {
          "output_type": "stream",
          "name": "stdout",
          "text": [
            "['1', '10', '100', '1111', '1234', '17thcentury', '18', '2', '216th', '25', '2day', '3', '4', '45degree', '4montholds', '500', '8', '97', 'a', 'abandoned', 'ability', 'able', 'about', 'above', 'abstraction', 'accept', 'acceptable', 'accepting', 'accidentally', 'accosted', 'accused', 'acquired', 'acres', 'across', 'acting', 'action', 'activities', 'actually', 'admirable', 'admit', 'adult', 'adventure', 'advertising', 'advice', 'advised', 'aesthetic', 'africa', 'african', 'after', 'again', 'against', 'age', 'agent', 'ago', 'ahead', 'air', 'al', 'albums', 'alien', 'alive', 'all', 'alligator', 'allow', 'almond', 'almonds', 'almost', 'alone', 'along', 'already', 'also', 'although', 'altitude', 'always', 'am', 'amateurs', 'amazed', 'amazing', 'among', 'amount', 'amounts', 'amused', 'amusement', 'an', 'anaconda', 'and', 'andy', 'angle', 'angled', 'angry', 'animal', 'animals', 'announcement', 'annoy', 'annoying', 'another', 'answer', 'answered', 'antenna', 'anticipated', 'ants', 'anxiety', 'any', 'anybody', 'anyone', 'anything', 'anyway', 'apart', 'appealing', 'appeared', 'apple', 'apples', 'applied', 'apply', 'appointment', 'appreciate', 'appreciated', 'approaches', 'appropriate', 'approve', 'aquarium', 'are', 'arent', 'argument', 'arm', 'armadillo', 'armor', 'aroma', 'around', 'arrested', 'arrived', 'art', 'artificial', 'artist', 'as', 'asia', 'ask', 'asked', 'asking', 'asks', 'ass', 'asteroid', 'at', 'ate', 'attacked', 'attacks', 'attendance', 'attendant', 'attire', 'aunts', 'authority', 'auto', 'available', 'avalanche', 'avocado', 'avoid', 'awaited', 'aware', 'away', 'baboons', 'baby', 'bachelorette', 'back', 'backcountry', 'backward', 'bacon', 'bad', 'bag', 'baggage', 'bait', 'bakery', 'ball', 'ballet', 'balloon', 'balloons', 'balls', 'bamboo', 'banana', 'bananas', 'band', 'bank', 'bar', 'barbecue', 'barbed', 'barefoot', 'barked', 'barking', 'barley', 'barrier', 'bars', 'basement', 'basket', 'bath', 'bathing', 'bathroom', 'bathtub', 'batteries', 'be', 'beach', 'beachcombing', 'beacon', 'beam', 'bear', 'bears', 'beats', 'beautiful', 'beauty', 'became', 'because', 'becky', 'become', 'becoming', 'bed', 'bedroom', 'bedspreads', 'bee', 'beef', 'been', 'beer', 'bees', 'before', 'begin', 'beginning', 'behind', 'being', 'belief', 'believe', 'believed', 'belly', 'beneath', 'best', 'better', 'between', 'bicycle', 'big', 'biggest', 'bikini', 'bill', 'bills', 'bird', 'birds', 'birth', 'birthday', 'biscuits', 'bite', 'bitter', 'black', 'blamed', 'blasted', 'blimp', 'blinking', 'blog', 'blood', 'blown', 'blue', 'blurred', 'boat', 'body', 'boil', 'bold', 'bond', 'bongos', 'book', 'borrowed', 'both', 'bother', 'bottle', 'bottles', 'bought', 'boulders', 'bowl', 'bowling', 'box', 'boy', 'brain', 'brake', 'brand', 'brandy', 'bread', 'breaking', 'brian', 'brick', 'bricks', 'bridge', 'bright', 'bring', 'bristlecone', 'broke', 'broken', 'brother', 'brought', 'brown', 'browser', 'brush', 'budgie', 'bug', 'build', 'building', 'built', 'bullet', 'bunker', 'bunny', 'buns', 'buoys', 'burger', 'buried', 'burned', 'burning', 'burns', 'burnt', 'bus', 'business', 'busker', 'busy', 'but', 'butter', 'buttered', 'button', 'butts', 'buy', 'by', 'cabbage', 'cabin', 'cactus', 'cake', 'calculator', 'call', 'called', 'calories', 'calves', 'came', 'camp', 'campers', 'campground', 'can', 'canceled', 'candied', 'candy', 'cant', 'canyon', 'cap', 'car', 'caramel', 'care', 'cared', 'career', 'careful', 'carol', 'carpet', 'cars', 'cashews', 'cat', 'catch', 'catching', 'catchup', 'cats', 'caught', 'caused', 'causes', 'cautiously', 'ceiling', 'cell', 'cellphones', 'center', 'cereal', 'certain', 'chalkboard', 'challenge', 'change', 'changed', 'changing', 'channel', 'charisma', 'charity', 'charles', 'chaucer', 'cheat', 'cheated', 'cheating', 'check', 'checked', 'cheerios', 'cheese', 'cherries', 'chewing', 'chic', 'chicken', 'chief', 'child', 'childbirth', 'childish', 'childlike', 'children', 'childs', 'chill', 'chips', 'chocolate', 'choice', 'choir', 'choosing', 'chose', 'chosen', 'christmas', 'chunks', 'church', 'cigarette', 'cigarettes', 'cigars', 'cinnamon', 'circles', 'circus', 'city', 'class', 'clauses', 'clean', 'cleaning', 'clear', 'climbers', 'clock', 'clocks', 'closed', 'closer', 'closet', 'clouds', 'clown', 'clowns', 'club', 'coal', 'coating', 'code', 'coffee', 'coffin', 'coffins', 'coherent', 'coin', 'coke', 'cold', 'collection', 'college', 'colonies', 'color', 'colored', 'colors', 'combined', 'combines', 'combining', 'come', 'comes', 'comforters', 'comforting', 'coming', 'commands', 'commerce', 'commit', 'common', 'companys', 'compare', 'complete', 'completely', 'complexes', 'complicated', 'complications', 'complimented', 'compliments', 'computer', 'concentration', 'concern', 'concerned', 'concluded', 'conclusion', 'conditioner', 'conditioning', 'conditions', 'cone', 'cones', 'confidence', 'confident', 'confines', 'confirmed', 'confronted', 'confused', 'confusingly', 'congregating', 'consider', 'consisted', 'contagious', 'content', 'continued', 'convertible', 'convince', 'convinced', 'cook', 'cookie', 'cookies', 'cool', 'cop', 'corn', 'corner', 'corny', 'cost', 'costume', 'cotton', 'could', 'couldnt', 'count', 'counting', 'country', 'couple', 'courage', 'course', 'couture', 'covered', 'cow', 'cowboy', 'coyotes', 'crab', 'crackers', 'cranes', 'cranky', 'crash', 'crashed', 'crashing', 'crazier', 'craziness', 'crazy', 'cream', 'create', 'created', 'creating', 'creative', 'creativity', 'crevasse', 'crickets', 'cried', 'crime', 'crimes', 'criminal', 'crisp', 'crocodiles', 'crowd', 'crowded', 'crush', 'cubed', 'cucumber', 'cuddly', 'cup', 'cupboard', 'curious', 'current', 'currently', 'cursive', 'cut', 'daily', 'daisy', 'damn', 'dan', 'dance', 'dancing', 'dane', 'danger', 'dangerous', 'dangled', 'dannys', 'dark', 'darkness', 'darts', 'date', 'daughter', 'daughters', 'david', 'dawn', 'dawned', 'day', 'days', 'dead', 'deadly', 'death', 'deaths', 'debate', 'decades', 'decide', 'decided', 'decorated', 'deep', 'deepest', 'deepfried', 'deepsea', 'delicious', 'delighted', 'delivered', 'demise', 'dense', 'dente', 'dentist', 'depended', 'depends', 'depths', 'desert', 'designer', 'despair', 'desperately', 'despite', 'dessert', 'destruction', 'detailed', 'detect', 'determined', 'devil', 'dial', 'diamonds', 'diary', 'did', 'didnt', 'die', 'died', 'diesel', 'diet', 'difference', 'different', 'difficult', 'dining', 'dinner', 'dinosaurs', 'directions', 'disappearance', 'disappointed', 'discovered', 'disguised', 'disgusted', 'disneyland', 'distance', 'dive', 'diving', 'do', 'does', 'doesnt', 'dog', 'dogs', 'doing', 'doll', 'dollar', 'dolores', 'dolphin', 'donation', 'donkey', 'dont', 'donuts', 'door', 'doris', 'doug', 'dough', 'douglas', 'down', 'dramatically', 'drank', 'drawer', 'dream', 'dreamed', 'dreams', 'dressed', 'dries', 'drink', 'drinking', 'drive', 'driving', 'drove', 'drummer', 'dryer', 'duck', 'due', 'dullness', 'dump', 'dungeon', 'during', 'dynamite', 'each', 'eagerly', 'ear', 'early', 'earmuffs', 'ears', 'earth', 'easier', 'easily', 'easy', 'eat', 'eaten', 'eating', 'edge', 'edith', 'effective', 'efficiency', 'effort', 'eggplant', 'eggs', 'eight', 'eighth', 'eighthour', 'either', 'elbows', 'elderly', 'elegant', 'elephant', 'elephants', 'else', 'elses', 'embarrassing', 'embraced', 'emergency', 'emotional', 'empathy', 'empty', 'enchantment', 'encountered', 'end', 'ended', 'ending', 'endless', 'ends', 'endured', 'enemies', 'english', 'engulfed', 'enjoy', 'enjoyable', 'enjoyed', 'enjoys', 'enough', 'enraged', 'entered', 'enthralled', 'entire', 'environment', 'envy', 'equator', 'equipment', 'erect', 'erin', 'escaping', 'especially', 'estate', 'eureka', 'even', 'eventually', 'ever', 'every', 'everybody', 'everyday', 'everyone', 'everything', 'evil', 'exact', 'exactly', 'example', 'excelled', 'excellent', 'except', 'exceptional', 'excess', 'exchanged', 'excited', 'excitement', 'exciting', 'excuses', 'exercising', 'existed', 'existence', 'expected', 'expedition', 'experience', 'explain', 'explained', 'explaining', 'explains', 'exploring', 'explosive', 'external', 'extinct', 'extinction', 'extraordinary', 'extroverts', 'eyeing', 'eyes', 'face', 'facemasks', 'facing', 'fact', 'failed', 'fairly', 'fake', 'fall', 'falling', 'family', 'familys', 'famous', 'fantasy', 'far', 'farm', 'farms', 'fascinating', 'fashion', 'fasting', 'fate', 'father', 'fathers', 'favorite', 'fear', 'feared', 'fears', 'fearsome', 'feeder', 'feeding', 'feedlot', 'feel', 'feeling', 'feet', 'fell', 'felt', 'fence', 'ferret', 'few', 'fifty', 'fighting', 'figleaf', 'figured', 'filled', 'final', 'finally', 'find', 'finding', 'finds', 'fine', 'fingernails', 'fingerprints', 'fingers', 'finish', 'finished', 'fire', 'fireflies', 'fires', 'fireworks', 'firing', 'firm', 'first', 'fish', 'fishbowl', 'fishermans', 'fishing', 'fishpond', 'fitness', 'five', 'fiveyearold', 'flag', 'flash', 'flat', 'flavor', 'fleas', 'fleshcolored', 'flew', 'flies', 'flip', 'float', 'floated', 'floating', 'flooded', 'floor', 'floorboards', 'flowing', 'fluffy', 'fly', 'flying', 'flyover', 'focus', 'fog', 'folded', 'folding', 'foliage', 'follow', 'followed', 'fond', 'food', 'foolish', 'for', 'forest', 'foretelling', 'forever', 'forgot', 'formed', 'forms', 'forward', 'found', 'fourth', 'fowl', 'fox', 'fragrance', 'frame', 'frames', 'freaked', 'free', 'freezer', 'french', 'fresh', 'friday', 'friend', 'friendly', 'friends', 'fries', 'frisbees', 'frogs', 'from', 'front', 'frozen', 'fruit', 'fueled', 'full', 'fumbled', 'fun', 'furnace', 'future', 'galaxy', 'gallery', 'galloped', 'game', 'gangster', 'garage', 'garden', 'garlic', 'gary', 'gathered', 'gave', 'gaze', 'gazelle', 'gear', 'gem', 'generally', 'generated', 'generations', 'generator', 'gentlemans', 'geography', 'geriatric', 'get', 'getting', 'ghost', 'ghosts', 'gift', 'gig', 'gin', 'gingerly', 'giraffe', 'giraffes', 'girl', 'girlfriend', 'girls', 'give', 'giving', 'glacier', 'glass', 'glaze', 'gliding', 'glitter', 'glittering', 'gloves', 'glue', 'gnome', 'gnu', 'go', 'goal', 'goatee', 'gocart', 'gods', 'going', 'gold', 'golden', 'goldfishs', 'good', 'goodbye', 'gossip', 'got', 'gotten', 'grabbed', 'grace', 'graduated', 'grammar', 'grandpa', 'grape', 'great', 'greatest', 'greatly', 'greedy', 'green', 'greener', 'greetings', 'grew', 'grief', 'grizzly', 'groan', 'ground', 'groundhog', 'grounds', 'group', 'grow', 'growing', 'gruff', 'grumbling', 'guard', 'guidelines', 'guinea', 'gutter', 'guy', 'guys', 'gwen', 'gym', 'habit', 'habitat', 'hacked', 'had', 'hadnt', 'hair', 'hairier', 'hairs', 'half', 'halted', 'ham', 'hamburgers', 'hand', 'handed', 'handful', 'handkerchief', 'hands', 'handstand', 'hang', 'hanging', 'hangout', 'happen', 'happened', 'happens', 'happier', 'happiness', 'happy', 'hard', 'harder', 'hardest', 'hardship', 'harming', 'harrold', 'has', 'hasnt', 'hat', 'hate', 'hated', 'have', 'havent', 'having', 'havoc', 'hawk', 'hazard', 'he', 'head', 'headhunters', 'heading', 'heads', 'hear', 'heard', 'heat', 'heating', 'heaven', 'heavy', 'hed', 'heed', 'heels', 'heights', 'held', 'hell', 'help', 'henry', 'her', 'here', 'heroes', 'hers', 'herself', 'hes', 'hesitation', 'hid', 'hidden', 'hide', 'hiding', 'high', 'highway', 'hike', 'hiked', 'him', 'himself', 'his', 'history', 'hit', 'hitchhiking', 'hobby', 'hog', 'hold', 'holding', 'hole', 'home', 'homesickness', 'homework', 'honestly', 'hood', 'hoop', 'hope', 'hoped', 'hopes', 'hornet', 'horror', 'horse', 'horses', 'hospital', 'hot', 'hour', 'hours', 'house', 'houses', 'how', 'however', 'hula', 'hummingbirds', 'hundreds', 'hurtled', 'i', 'ice', 'icecream', 'icon', 'id', 'idea', 'ideas', 'if', 'ignited', 'iguana', 'iguanas', 'ill', 'im', 'imagine', 'immediately', 'immense', 'impassable', 'impenetrable', 'important', 'impossible', 'impressed', 'impression', 'improve', 'improved', 'in', 'include', 'including', 'increased', 'incredibly', 'indicated', 'industrial', 'infinite', 'information', 'ingredient', 'initially', 'ink', 'inner', 'inside', 'insist', 'insisted', 'inspirational', 'instant', 'instead', 'instilled', 'instruction', 'instructions', 'insulted', 'intact', 'intentional', 'intently', 'interesting', 'internet', 'interstate', 'intertwined', 'interviews', 'intimidating', 'into', 'introvert', 'invested', 'invited', 'iron', 'irony', 'is', 'island', 'isnt', 'issues', 'it', 'italy', 'its', 'itself', 'ive', 'ivy', 'jail', 'james', 'japanese', 'jason', 'jaw', 'jeanne', 'jello', 'jelly', 'jellyfish', 'jenny', 'jerry', 'jet', 'jewel', 'jim', 'job', 'jobs', 'joe', 'john', 'join', 'joint', 'joy', 'joyce', 'judgment', 'jug', 'juice', 'juicer', 'july', 'jumped', 'jumps', 'june', 'jungle', 'just', 'kangaroo', 'kansas', 'karen', 'keep', 'kept', 'ketchup', 'kevin', 'key', 'kids', 'kill', 'killer', 'kind', 'kitchen', 'kite', 'kittens', 'knew', 'knife', 'knives', 'know', 'knowing', 'known', 'knows', 'labor', 'lack', 'ladder', 'lady', 'ladys', 'lake', 'landed', 'landscape', 'language', 'laptop', 'large', 'laser', 'lasso', 'last', 'lasting', 'later', 'laugh', 'law', 'lawn', 'lawnmower', 'laws', 'layers', 'laziness', 'lazy', 'lead', 'leaking', 'learned', 'learning', 'lease', 'least', 'leave', 'leaving', 'left', 'legless', 'legos', 'lemonade', 'lengths', 'leopards', 'leprechaun', 'lesson', 'let', 'lets', 'letter', 'level', 'levels', 'library', 'life', 'lifestyle', 'lifetime', 'light', 'lighthouse', 'lightning', 'lights', 'like', 'liked', 'likes', 'lime', 'limeade', 'line', 'lined', 'lion', 'lions', 'lipstick', 'liquefy', 'liquid', 'list', 'listened', 'listener', 'listening', 'listens', 'literally', 'little', 'live', 'lived', 'lives', 'living', 'lizard', 'llama', 'local', 'location', 'lockpick', 'lollipop', 'long', 'longbow', 'longer', 'longing', 'look', 'looked', 'looking', 'looks', 'loops', 'loss', 'lost', 'lot', 'loud', 'lounge', 'love', 'loved', 'lovely', 'loves', 'lower', 'lucifer', 'lunch', 'lurking', 'lyrics', 'machine', 'macho', 'macs0647jd', 'made', 'maize', 'make', 'makes', 'malls', 'man', 'manager', 'maneating', 'mangroves', 'manifesto', 'mannequin', 'mans', 'manuals', 'many', 'map', 'maple', 'marked', 'market', 'marriage', 'marshmallow', 'martha', 'mary', 'mask', 'masks', 'massaging', 'mastermind', 'masterpiece', 'matched', 'matter', 'mattress', 'may', 'me', 'meal', 'mean', 'meaning', 'meant', 'mechanic', 'medicinal', 'meet', 'megaphones', 'melancholy', 'member', 'members', 'memes', 'memorable', 'memories', 'memory', 'men', 'mens', 'mental', 'mention', 'mere', 'message', 'met', 'mexico', 'middle', 'midsent', 'might', 'miles', 'military', 'milk', 'millimeters', 'million', 'mind', 'minerals', 'miniature', 'minute', 'minutes', 'mirror', 'mirrored', 'miss', 'missing', 'mode', 'model', 'mom', 'moment', 'moments', 'monday', 'money', 'mongoose', 'monkey', 'monkeys', 'month', 'months', 'montoya', 'moon', 'moore', 'more', 'morgue', 'moss', 'most', 'mother', 'mothers', 'motorbike', 'motorists', 'motto', 'mountain', 'mountains', 'mouth', 'move', 'moved', 'movie', 'mr', 'much', 'multiple', 'mum', 'murder', 'museum', 'mushroom', 'music', 'must', 'mutiny', 'my', 'myself', 'mysterious', 'nail', 'nails', 'nair', 'name', 'named', 'nancy', 'nature', 'nearby', 'neardeath', 'nearly', 'neat', 'neatly', 'neck', 'need', 'needed', 'neighborhood', 'neighbors', 'never', 'new', 'newly', 'news', 'next', 'nice', 'nicely', 'nickname', 'night', 'nighttime', 'no', 'nobody', 'noisy', 'none', 'noodles', 'noped', 'nor', 'normal', 'nose', 'not', 'nothing', 'notice', 'noticed', 'novels', 'now', 'nudist', 'number', 'nursery', 'nuts', 'obeyed', 'oblivious', 'obscured', 'obsession', 'obvious', 'occasion', 'occur', 'ocean', 'oclock', 'of', 'off', 'offended', 'officiates', 'often', 'oil', 'okay', 'old', 'older', 'olds', 'oldstyle', 'olive', 'omelets', 'on', 'once', 'one', 'oneroom', 'ones', 'onesie', 'only', 'onomatopoeia', 'onto', 'open', 'opened', 'opportunity', 'opposite', 'or', 'orange', 'oranges', 'orchard', 'order', 'ordered', 'orders', 'other', 'others', 'otherwise', 'our', 'out', 'outside', 'outsmarted', 'over', 'overhead', 'overjoyed', 'overnight', 'overpass', 'own', 'owners', 'owning', 'packages', 'packed', 'packets', 'paint', 'paintbrush', 'painted', 'paintings', 'paints', 'pair', 'paired', 'palm', 'pancakes', 'panda', 'pandemic', 'pants', 'pantyhose', 'paper', 'paradise', 'paragraphs', 'paranoid', 'parents', 'park', 'parking', 'parrot', 'part', 'parties', 'parts', 'party', 'pass', 'passed', 'passing', 'past', 'pastels', 'pastime', 'pat', 'path', 'patients', 'patricia', 'pay', 'peach', 'peanut', 'peanuts', 'pelican', 'pelted', 'pen', 'penguin', 'people', 'peoples', 'pepper', 'pepsi', 'perception', 'perfect', 'permeated', 'perplexed', 'person', 'persons', 'perspective', 'pesticides', 'pet', 'peter', 'pets', 'phobia', 'phone', 'photography', 'physical', 'piano', 'pick', 'picked', 'picking', 'pickles', 'picnic', 'pie', 'piece', 'pierced', 'piercing', 'pig', 'pigeon', 'piggy', 'piglets', 'pigs', 'pilings', 'pine', 'ping', 'pink', 'piss', 'pits', 'pizza', 'place', 'places', 'plan', 'plane', 'plans', 'plant', 'plantains', 'planted', 'plants', 'platypus', 'play', 'played', 'playing', 'plays', 'please', 'plum', 'point', 'points', 'poison', 'poker', 'poking', 'pole', 'ponder', 'pong', 'pony', 'ponytail', 'poodles', 'pool', 'poor', 'poorly', 'pop', 'popcorn', 'popping', 'popular', 'porcupine', 'portable', 'portapotty', 'positive', 'possible', 'pot', 'potato', 'pots', 'poured', 'power', 'powerful', 'powers', 'practice', 'practicing', 'prance', 'preconceived', 'predicting', 'prefer', 'preoccupied', 'preparation', 'prepared', 'president', 'press', 'pressed', 'pretends', 'pretty', 'prey', 'priest', 'prisons', 'probably', 'problems', 'process', 'progressed', 'promising', 'promotion', 'proof', 'proper', 'prospects', 'protect', 'protection', 'proud', 'proudly', 'prove', 'provides', 'psychological', 'public', 'pudding', 'punk', 'purchased', 'purple', 'purposely', 'put', 'pyramids', 'pyrite', 'queen', 'quenched', 'questions', 'quick', 'quicker', 'quickly', 'quiet', 'quietly', 'quipped', 'quit', 'quite', 'rabbit', 'rabbits', 'raccoon', 'raccoons', 'race', 'radio', 'radish', 'rafting', 'rain', 'rainbow', 'raincoat', 'raining', 'rains', 'rainstorm', 'raised', 'rampaging', 'ran', 'random', 'ranger', 'rapture', 'rate', 'rather', 'reached', 'read', 'real', 'realise', 'reality', 'realize', 'realized', 'really', 'reason', 'reasons', 'received', 'recently', 'recite', 'recommend', 'recommended', 'recorded', 'records', 'recycled', 'red', 'reflection', 'refused', 'regretted', 'relationship', 'relationships', 'remain', 'remember', 'remembers', 'reminded', 'removing', 'rent', 'rental', 'repairman', 'replaced', 'rescued', 'research', 'reservoir', 'resist', 'respect', 'response', 'responsibility', 'retain', 'retriever', 'returned', 'reused', 'reveal', 'revels', 'revenge', 'rhubarb', 'rhymes', 'rich', 'rick', 'ride', 'riding', 'right', 'ring', 'risk', 'river', 'roaches', 'road', 'roadmap', 'roads', 'roaming', 'roar', 'roasting', 'robbers', 'rock', 'rockets', 'rocks', 'rode', 'roger', 'role', 'roll', 'rolled', 'romance', 'roof', 'room', 'rootbeer', 'rope', 'rose', 'roses', 'rotary', 'rotten', 'row', 'rowdy', 'ruin', 'ruined', 'run', 'russian', 'rusted', 'rustling', 'rusty', 'rvs', 'sabotage', 'sad', 'saddened', 'safe', 'safety', 'said', 'sailboat', 'sale', 'same', 'sand', 'sandcastle', 'sandwich', 'sandwiches', 'sandy', 'sanitizer', 'santa', 'sarah', 'sat', 'saturday', 'sauce', 'saucepan', 'savannah', 'save', 'saw', 'say', 'saying', 'says', 'scale', 'scarcity', 'scarf', 'scars', 'scheme', 'school', 'scooped', 'scratching', 'scream', 'screaming', 'screams', 'scuba', 'sea', 'seared', 'season', 'seasoned', 'seats', 'second', 'secret', 'secretary', 'secretly', 'security', 'see', 'seedlings', 'seek', 'seemed', 'seems', 'seen', 'self', 'sell', 'seller', 'selling', 'sense', 'sentence', 'sentences', 'separated', 'separation', 'serial', 'server', 'set', 'setting', 'sevenlayer', 'seventh', 'several', 'sewage', 'shade', 'shake', 'shakespeare', 'share', 'shark', 'sharkinfested', 'sharpening', 'shattering', 'shaved', 'shaw', 'she', 'shed', 'shell', 'shelter', 'shingle', 'shipwreck', 'shocked', 'shoelaces', 'shooter', 'shop', 'shopping', 'shore', 'short', 'should', 'shoulders', 'shouldnt', 'show', 'shower', 'showers', 'shrink', 'shun', 'shut', 'sick', 'side', 'sight', 'sign', 'silence', 'silenced', 'simple', 'simply', 'since', 'singer', 'singing', 'single', 'sipped', 'siri', 'sister', 'sisterinlaws', 'sisters', 'sit', 'sitting', 'situation', 'situps', 'six', 'sixteen', 'sixth', 'sixtyfour', 'skateboarding', 'skateboards', 'skeleton', 'skeletons', 'skill', 'skin', 'sky', 'skyrocketed', 'slalom', 'slammed', 'sleep', 'sleeping', 'sleepwalking', 'slept', 'slice', 'slide', 'slippers', 'slippery', 'slope', 'slot', 'sloth', 'small', 'smallest', 'smashing', 'smelled', 'smells', 'smoke', 'smoky', 'smoothie', 'snack', 'snake', 'snap', 'snow', 'snowcovered', 'so', 'society', 'sock', 'socks', 'soda', 'soft', 'softball', 'soggy', 'sold', 'soldiers', 'solved', 'some', 'somehow', 'someone', 'something', 'sometimes', 'somewhere', 'son', 'song', 'songs', 'soon', 'soul', 'sound', 'sounded', 'sounds', 'soundtrack', 'soup', 'south', 'spa', 'space', 'spaghetti', 'spare', 'spark', 'sparkly', 'speak', 'speaks', 'specific', 'sped', 'speed', 'spend', 'spending', 'sphered', 'spiked', 'spin', 'spirit', 'spitting', 'splash', 'spoon', 'spots', 'spotted', 'sprinkles', 'spun', 'spy', 'spying', 'squirrel', 'squirrels', 'stairway', 'stalking', 'stampcollecting', 'stand', 'standing', 'stardust', 'stare', 'stared', 'starfish', 'staring', 'stars', 'start', 'started', 'starting', 'stash', 'state', 'station', 'status', 'stay', 'steak', 'stench', 'step', 'stepped', 'steroids', 'sticks', 'still', 'stocking', 'stocks', 'stole', 'stomped', 'stood', 'stop', 'stopped', 'storage', 'store', 'storm', 'story', 'strain', 'stranded', 'strange', 'strangeness', 'stranger', 'strapped', 'strategy', 'strawberries', 'stream', 'street', 'streets', 'strength', 'striped', 'strives', 'stronger', 'strongly', 'struggle', 'students', 'stuff', 'stupidity', 'subscribes', 'subsequently', 'subsist', 'substitute', 'succeed', 'success', 'such', 'sudden', 'suddenly', 'sufficient', 'sugar', 'suggestion', 'suit', 'suits', 'summer', 'sun', 'sunblock', 'sunburnt', 'sundae', 'sundays', 'sunglasses', 'sunhat', 'sunlight', 'sunny', 'sunset', 'super', 'support', 'supposed', 'sure', 'surfboard', 'surgical', 'surprise', 'surprised', 'surprisingly', 'surrounded', 'surrounding', 'survive', 'susan', 'sushi', 'suspect', 'swamp', 'sweat', 'sweaty', 'sweet', 'swim', 'swimming', 'swirled', 'switch', 'swore', 'swung', 'symbol', 'symbols', 'sympathy', 'syrup', 'system', 'systems', 'table', 'tajikistan', 'take', 'taken', 'taking', 'tale', 'talk', 'talked', 'talking', 'tanned', 'tantrum', 'tapping', 'tart', 'task', 'taste', 'tasted', 'tastes', 'tasting', 'tasty', 'tattered', 'tball', 'tea', 'teabreak', 'teacher', 'team', 'teapots', 'tears', 'teenage', 'teenager', 'teenagers', 'teens', 'teeth', 'tell', 'telling', 'tells', 'temperature', 'ten', 'tennis', 'tent', 'tenth', 'terrible', 'territory', 'terrorist', 'test', 'than', 'thankful', 'thanks', 'that', 'thats', 'the', 'their', 'them', 'then', 'theory', 'therapy', 'there', 'thered', 'theres', 'these', 'they', 'theyll', 'theyre', 'thick', 'thief', 'thighhigh', 'thing', 'things', 'think', 'thinking', 'thinks', 'third', 'thirst', 'thirty', 'this', 'thorns', 'those', 'though', 'thought', 'thoughts', 'three', 'threeegg', 'threeyearold', 'threw', 'thrilled', 'through', 'throughout', 'throw', 'thunder', 'thunderous', 'thursday', 'thus', 'tight', 'tiki', 'tilted', 'time', 'times', 'tint', 'tipping', 'tired', 'to', 'toasted', 'today', 'toddlers', 'toenail', 'toenails', 'toes', 'together', 'toilet', 'told', 'tom', 'tomato', 'tomatoes', 'tomorrow', 'too', 'took', 'toothpicks', 'top', 'tophat', 'tornado', 'tortoise', 'touched', 'tour', 'tournament', 'toward', 'towels', 'tower', 'town', 'toxic', 'toy', 'track', 'traffic', 'training', 'tranquil', 'transparent', 'transplant', 'transplanting', 'transport', 'trash', 'travel', 'traveled', 'traveler', 'traveling', 'travolta', 'treasure', 'tree', 'trees', 'trend', 'tribe', 'trick', 'tried', 'tries', 'trip', 'trivial', 'trout', 'trowel', 'trucks', 'true', 'truly', 'trust', 'trusted', 'truth', 'try', 'trying', 'tsunami', 'tub', 'tuesday', 'tuesdays', 'tugofwar', 'tumble', 'tumbleweed', 'tummies', 'tuna', 'turn', 'turned', 'turning', 'turns', 'turtle', 'twice', 'twin', 'twinkling', 'two', 'type', 'ultimate', 'unacquainted', 'uncles', 'under', 'underestimate', 'underground', 'underneath', 'undersea', 'understand', 'understands', 'understood', 'underwear', 'unexpected', 'unexpectedly', 'unfathomable', 'unhappy', 'unicorn', 'unicorns', 'unique', 'universe', 'unknowingly', 'unknown', 'unless', 'unmemorable', 'unpleasant', 'unpredictable', 'unsure', 'until', 'up', 'upset', 'upstairs', 'urgent', 'us', 'use', 'used', 'useful', 'useless', 'uses', 'using', 'usually', 'vacant', 'vague', 'valley', 'vampire', 'van', 'various', 'vegetable', 'vegetables', 'veggie', 'velocity', 'very', 'video', 'view', 'vines', 'virus', 'visited', 'visiting', 'vividly', 'vocabulary', 'voice', 'vs', 'waffles', 'wait', 'waited', 'waiting', 'waitress', 'wake', 'walk', 'walked', 'wall', 'walnut', 'wander', 'wandered', 'want', 'wanted', 'wanting', 'wants', 'war', 'warm', 'warmer', 'warning', 'warnings', 'was', 'wash', 'washed', 'washing', 'wasnt', 'waste', 'watch', 'watched', 'watching', 'water', 'watermelon', 'waterskiing', 'wave', 'waves', 'waving', 'way', 'ways', 'we', 'weapon', 'weapons', 'wear', 'wearing', 'weasel', 'weather', 'weaving', 'wedding', 'wedges', 'weekend', 'weeks', 'weightgain', 'weights', 'welcoming', 'well', 'wellknown', 'went', 'were', 'werent', 'west', 'what', 'whats', 'wheat', 'wheels', 'when', 'whenever', 'where', 'whether', 'which', 'while', 'whip', 'whiskey', 'whispered', 'whispering', 'whistle', 'white', 'who', 'why', 'wield', 'will', 'willing', 'willingness', 'win', 'wind', 'window', 'windows', 'windshield', 'windswept', 'windy', 'wine', 'wings', 'wipes', 'wire', 'wisdom', 'wished', 'wishing', 'with', 'within', 'without', 'women', 'wonder', 'wondered', 'wonderful', 'wont', 'wooden', 'words', 'wore', 'work', 'working', 'workout', 'works', 'world', 'worm', 'worms', 'worn', 'worried', 'worry', 'worse', 'worst', 'worth', 'worthless', 'would', 'wouldnt', 'wound', 'wreak', 'writing', 'written', 'wrong', 'wrote', 'yard', 'yeah', 'year', 'years', 'yellow', 'yells', 'yen', 'yesterday', 'yet', 'yoga', 'you', 'youll', 'young', 'your', 'youre', 'yourself', 'youve', 'yr', 'zombies', 'zone']\n",
            "['zone', 'zombies', 'yr', 'youve', 'yourself', 'youre', 'your', 'young', 'youll', 'you', 'yoga', 'yet', 'yesterday', 'yen', 'yells', 'yellow', 'years', 'year', 'yeah', 'yard', 'wrote', 'wrong', 'written', 'writing', 'wreak', 'wound', 'wouldnt', 'would', 'worthless', 'worth', 'worst', 'worse', 'worry', 'worried', 'worn', 'worms', 'worm', 'world', 'works', 'workout', 'working', 'work', 'wore', 'words', 'wooden', 'wont', 'wonderful', 'wondered', 'wonder', 'women', 'without', 'within', 'with', 'wishing', 'wished', 'wisdom', 'wire', 'wipes', 'wings', 'wine', 'windy', 'windswept', 'windshield', 'windows', 'window', 'wind', 'win', 'willingness', 'willing', 'will', 'wield', 'why', 'who', 'white', 'whistle', 'whispering', 'whispered', 'whiskey', 'whip', 'while', 'which', 'whether', 'where', 'whenever', 'when', 'wheels', 'wheat', 'whats', 'what', 'west', 'werent', 'were', 'went', 'wellknown', 'well', 'welcoming', 'weights', 'weightgain', 'weeks', 'weekend', 'wedges', 'wedding', 'weaving', 'weather', 'weasel', 'wearing', 'wear', 'weapons', 'weapon', 'we', 'ways', 'way', 'waving', 'waves', 'wave', 'waterskiing', 'watermelon', 'water', 'watching', 'watched', 'watch', 'waste', 'wasnt', 'washing', 'washed', 'wash', 'was', 'warnings', 'warning', 'warmer', 'warm', 'war', 'wants', 'wanting', 'wanted', 'want', 'wandered', 'wander', 'walnut', 'wall', 'walked', 'walk', 'wake', 'waitress', 'waiting', 'waited', 'wait', 'waffles', 'vs', 'voice', 'vocabulary', 'vividly', 'visiting', 'visited', 'virus', 'vines', 'view', 'video', 'very', 'velocity', 'veggie', 'vegetables', 'vegetable', 'various', 'van', 'vampire', 'valley', 'vague', 'vacant', 'usually', 'using', 'uses', 'useless', 'useful', 'used', 'use', 'us', 'urgent', 'upstairs', 'upset', 'up', 'until', 'unsure', 'unpredictable', 'unpleasant', 'unmemorable', 'unless', 'unknown', 'unknowingly', 'universe', 'unique', 'unicorns', 'unicorn', 'unhappy', 'unfathomable', 'unexpectedly', 'unexpected', 'underwear', 'understood', 'understands', 'understand', 'undersea', 'underneath', 'underground', 'underestimate', 'under', 'uncles', 'unacquainted', 'ultimate', 'type', 'two', 'twinkling', 'twin', 'twice', 'turtle', 'turns', 'turning', 'turned', 'turn', 'tuna', 'tummies', 'tumbleweed', 'tumble', 'tugofwar', 'tuesdays', 'tuesday', 'tub', 'tsunami', 'trying', 'try', 'truth', 'trusted', 'trust', 'truly', 'true', 'trucks', 'trowel', 'trout', 'trivial', 'trip', 'tries', 'tried', 'trick', 'tribe', 'trend', 'trees', 'tree', 'treasure', 'travolta', 'traveling', 'traveler', 'traveled', 'travel', 'trash', 'transport', 'transplanting', 'transplant', 'transparent', 'tranquil', 'training', 'traffic', 'track', 'toy', 'toxic', 'town', 'tower', 'towels', 'toward', 'tournament', 'tour', 'touched', 'tortoise', 'tornado', 'tophat', 'top', 'toothpicks', 'took', 'too', 'tomorrow', 'tomatoes', 'tomato', 'tom', 'told', 'toilet', 'together', 'toes', 'toenails', 'toenail', 'toddlers', 'today', 'toasted', 'to', 'tired', 'tipping', 'tint', 'times', 'time', 'tilted', 'tiki', 'tight', 'thus', 'thursday', 'thunderous', 'thunder', 'throw', 'throughout', 'through', 'thrilled', 'threw', 'threeyearold', 'threeegg', 'three', 'thoughts', 'thought', 'though', 'those', 'thorns', 'this', 'thirty', 'thirst', 'third', 'thinks', 'thinking', 'think', 'things', 'thing', 'thighhigh', 'thief', 'thick', 'theyre', 'theyll', 'they', 'these', 'theres', 'thered', 'there', 'therapy', 'theory', 'then', 'them', 'their', 'the', 'thats', 'that', 'thanks', 'thankful', 'than', 'test', 'terrorist', 'territory', 'terrible', 'tenth', 'tent', 'tennis', 'ten', 'temperature', 'tells', 'telling', 'tell', 'teeth', 'teens', 'teenagers', 'teenager', 'teenage', 'tears', 'teapots', 'team', 'teacher', 'teabreak', 'tea', 'tball', 'tattered', 'tasty', 'tasting', 'tastes', 'tasted', 'taste', 'task', 'tart', 'tapping', 'tantrum', 'tanned', 'talking', 'talked', 'talk', 'tale', 'taking', 'taken', 'take', 'tajikistan', 'table', 'systems', 'system', 'syrup', 'sympathy', 'symbols', 'symbol', 'swung', 'swore', 'switch', 'swirled', 'swimming', 'swim', 'sweet', 'sweaty', 'sweat', 'swamp', 'suspect', 'sushi', 'susan', 'survive', 'surrounding', 'surrounded', 'surprisingly', 'surprised', 'surprise', 'surgical', 'surfboard', 'sure', 'supposed', 'support', 'super', 'sunset', 'sunny', 'sunlight', 'sunhat', 'sunglasses', 'sundays', 'sundae', 'sunburnt', 'sunblock', 'sun', 'summer', 'suits', 'suit', 'suggestion', 'sugar', 'sufficient', 'suddenly', 'sudden', 'such', 'success', 'succeed', 'substitute', 'subsist', 'subsequently', 'subscribes', 'stupidity', 'stuff', 'students', 'struggle', 'strongly', 'stronger', 'strives', 'striped', 'strength', 'streets', 'street', 'stream', 'strawberries', 'strategy', 'strapped', 'stranger', 'strangeness', 'strange', 'stranded', 'strain', 'story', 'storm', 'store', 'storage', 'stopped', 'stop', 'stood', 'stomped', 'stole', 'stocks', 'stocking', 'still', 'sticks', 'steroids', 'stepped', 'step', 'stench', 'steak', 'stay', 'status', 'station', 'state', 'stash', 'starting', 'started', 'start', 'stars', 'staring', 'starfish', 'stared', 'stare', 'stardust', 'standing', 'stand', 'stampcollecting', 'stalking', 'stairway', 'squirrels', 'squirrel', 'spying', 'spy', 'spun', 'sprinkles', 'spotted', 'spots', 'spoon', 'splash', 'spitting', 'spirit', 'spin', 'spiked', 'sphered', 'spending', 'spend', 'speed', 'sped', 'specific', 'speaks', 'speak', 'sparkly', 'spark', 'spare', 'spaghetti', 'space', 'spa', 'south', 'soup', 'soundtrack', 'sounds', 'sounded', 'sound', 'soul', 'soon', 'songs', 'song', 'son', 'somewhere', 'sometimes', 'something', 'someone', 'somehow', 'some', 'solved', 'soldiers', 'sold', 'soggy', 'softball', 'soft', 'soda', 'socks', 'sock', 'society', 'so', 'snowcovered', 'snow', 'snap', 'snake', 'snack', 'smoothie', 'smoky', 'smoke', 'smells', 'smelled', 'smashing', 'smallest', 'small', 'sloth', 'slot', 'slope', 'slippery', 'slippers', 'slide', 'slice', 'slept', 'sleepwalking', 'sleeping', 'sleep', 'slammed', 'slalom', 'skyrocketed', 'sky', 'skin', 'skill', 'skeletons', 'skeleton', 'skateboards', 'skateboarding', 'sixtyfour', 'sixth', 'sixteen', 'six', 'situps', 'situation', 'sitting', 'sit', 'sisters', 'sisterinlaws', 'sister', 'siri', 'sipped', 'single', 'singing', 'singer', 'since', 'simply', 'simple', 'silenced', 'silence', 'sign', 'sight', 'side', 'sick', 'shut', 'shun', 'shrink', 'showers', 'shower', 'show', 'shouldnt', 'shoulders', 'should', 'short', 'shore', 'shopping', 'shop', 'shooter', 'shoelaces', 'shocked', 'shipwreck', 'shingle', 'shelter', 'shell', 'shed', 'she', 'shaw', 'shaved', 'shattering', 'sharpening', 'sharkinfested', 'shark', 'share', 'shakespeare', 'shake', 'shade', 'sewage', 'several', 'seventh', 'sevenlayer', 'setting', 'set', 'server', 'serial', 'separation', 'separated', 'sentences', 'sentence', 'sense', 'selling', 'seller', 'sell', 'self', 'seen', 'seems', 'seemed', 'seek', 'seedlings', 'see', 'security', 'secretly', 'secretary', 'secret', 'second', 'seats', 'seasoned', 'season', 'seared', 'sea', 'scuba', 'screams', 'screaming', 'scream', 'scratching', 'scooped', 'school', 'scheme', 'scars', 'scarf', 'scarcity', 'scale', 'says', 'saying', 'say', 'saw', 'save', 'savannah', 'saucepan', 'sauce', 'saturday', 'sat', 'sarah', 'santa', 'sanitizer', 'sandy', 'sandwiches', 'sandwich', 'sandcastle', 'sand', 'same', 'sale', 'sailboat', 'said', 'safety', 'safe', 'saddened', 'sad', 'sabotage', 'rvs', 'rusty', 'rustling', 'rusted', 'russian', 'run', 'ruined', 'ruin', 'rowdy', 'row', 'rotten', 'rotary', 'roses', 'rose', 'rope', 'rootbeer', 'room', 'roof', 'romance', 'rolled', 'roll', 'role', 'roger', 'rode', 'rocks', 'rockets', 'rock', 'robbers', 'roasting', 'roar', 'roaming', 'roads', 'roadmap', 'road', 'roaches', 'river', 'risk', 'ring', 'right', 'riding', 'ride', 'rick', 'rich', 'rhymes', 'rhubarb', 'revenge', 'revels', 'reveal', 'reused', 'returned', 'retriever', 'retain', 'responsibility', 'response', 'respect', 'resist', 'reservoir', 'research', 'rescued', 'replaced', 'repairman', 'rental', 'rent', 'removing', 'reminded', 'remembers', 'remember', 'remain', 'relationships', 'relationship', 'regretted', 'refused', 'reflection', 'red', 'recycled', 'records', 'recorded', 'recommended', 'recommend', 'recite', 'recently', 'received', 'reasons', 'reason', 'really', 'realized', 'realize', 'reality', 'realise', 'real', 'read', 'reached', 'rather', 'rate', 'rapture', 'ranger', 'random', 'ran', 'rampaging', 'raised', 'rainstorm', 'rains', 'raining', 'raincoat', 'rainbow', 'rain', 'rafting', 'radish', 'radio', 'race', 'raccoons', 'raccoon', 'rabbits', 'rabbit', 'quite', 'quit', 'quipped', 'quietly', 'quiet', 'quickly', 'quicker', 'quick', 'questions', 'quenched', 'queen', 'pyrite', 'pyramids', 'put', 'purposely', 'purple', 'purchased', 'punk', 'pudding', 'public', 'psychological', 'provides', 'prove', 'proudly', 'proud', 'protection', 'protect', 'prospects', 'proper', 'proof', 'promotion', 'promising', 'progressed', 'process', 'problems', 'probably', 'prisons', 'priest', 'prey', 'pretty', 'pretends', 'pressed', 'press', 'president', 'prepared', 'preparation', 'preoccupied', 'prefer', 'predicting', 'preconceived', 'prance', 'practicing', 'practice', 'powers', 'powerful', 'power', 'poured', 'pots', 'potato', 'pot', 'possible', 'positive', 'portapotty', 'portable', 'porcupine', 'popular', 'popping', 'popcorn', 'pop', 'poorly', 'poor', 'pool', 'poodles', 'ponytail', 'pony', 'pong', 'ponder', 'pole', 'poking', 'poker', 'poison', 'points', 'point', 'plum', 'please', 'plays', 'playing', 'played', 'play', 'platypus', 'plants', 'planted', 'plantains', 'plant', 'plans', 'plane', 'plan', 'places', 'place', 'pizza', 'pits', 'piss', 'pink', 'ping', 'pine', 'pilings', 'pigs', 'piglets', 'piggy', 'pigeon', 'pig', 'piercing', 'pierced', 'piece', 'pie', 'picnic', 'pickles', 'picking', 'picked', 'pick', 'piano', 'physical', 'photography', 'phone', 'phobia', 'pets', 'peter', 'pet', 'pesticides', 'perspective', 'persons', 'person', 'perplexed', 'permeated', 'perfect', 'perception', 'pepsi', 'pepper', 'peoples', 'people', 'penguin', 'pen', 'pelted', 'pelican', 'peanuts', 'peanut', 'peach', 'pay', 'patricia', 'patients', 'path', 'pat', 'pastime', 'pastels', 'past', 'passing', 'passed', 'pass', 'party', 'parts', 'parties', 'part', 'parrot', 'parking', 'park', 'parents', 'paranoid', 'paragraphs', 'paradise', 'paper', 'pantyhose', 'pants', 'pandemic', 'panda', 'pancakes', 'palm', 'paired', 'pair', 'paints', 'paintings', 'painted', 'paintbrush', 'paint', 'packets', 'packed', 'packages', 'owning', 'owners', 'own', 'overpass', 'overnight', 'overjoyed', 'overhead', 'over', 'outsmarted', 'outside', 'out', 'our', 'otherwise', 'others', 'other', 'orders', 'ordered', 'order', 'orchard', 'oranges', 'orange', 'or', 'opposite', 'opportunity', 'opened', 'open', 'onto', 'onomatopoeia', 'only', 'onesie', 'ones', 'oneroom', 'one', 'once', 'on', 'omelets', 'olive', 'oldstyle', 'olds', 'older', 'old', 'okay', 'oil', 'often', 'officiates', 'offended', 'off', 'of', 'oclock', 'ocean', 'occur', 'occasion', 'obvious', 'obsession', 'obscured', 'oblivious', 'obeyed', 'nuts', 'nursery', 'number', 'nudist', 'now', 'novels', 'noticed', 'notice', 'nothing', 'not', 'nose', 'normal', 'nor', 'noped', 'noodles', 'none', 'noisy', 'nobody', 'no', 'nighttime', 'night', 'nickname', 'nicely', 'nice', 'next', 'news', 'newly', 'new', 'never', 'neighbors', 'neighborhood', 'needed', 'need', 'neck', 'neatly', 'neat', 'nearly', 'neardeath', 'nearby', 'nature', 'nancy', 'named', 'name', 'nair', 'nails', 'nail', 'mysterious', 'myself', 'my', 'mutiny', 'must', 'music', 'mushroom', 'museum', 'murder', 'mum', 'multiple', 'much', 'mr', 'movie', 'moved', 'move', 'mouth', 'mountains', 'mountain', 'motto', 'motorists', 'motorbike', 'mothers', 'mother', 'most', 'moss', 'morgue', 'more', 'moore', 'moon', 'montoya', 'months', 'month', 'monkeys', 'monkey', 'mongoose', 'money', 'monday', 'moments', 'moment', 'mom', 'model', 'mode', 'missing', 'miss', 'mirrored', 'mirror', 'minutes', 'minute', 'miniature', 'minerals', 'mind', 'million', 'millimeters', 'milk', 'military', 'miles', 'might', 'midsent', 'middle', 'mexico', 'met', 'message', 'mere', 'mention', 'mental', 'mens', 'men', 'memory', 'memories', 'memorable', 'memes', 'members', 'member', 'melancholy', 'megaphones', 'meet', 'medicinal', 'mechanic', 'meant', 'meaning', 'mean', 'meal', 'me', 'may', 'mattress', 'matter', 'matched', 'masterpiece', 'mastermind', 'massaging', 'masks', 'mask', 'mary', 'martha', 'marshmallow', 'marriage', 'market', 'marked', 'maple', 'map', 'many', 'manuals', 'mans', 'mannequin', 'manifesto', 'mangroves', 'maneating', 'manager', 'man', 'malls', 'makes', 'make', 'maize', 'made', 'macs0647jd', 'macho', 'machine', 'lyrics', 'lurking', 'lunch', 'lucifer', 'lower', 'loves', 'lovely', 'loved', 'love', 'lounge', 'loud', 'lot', 'lost', 'loss', 'loops', 'looks', 'looking', 'looked', 'look', 'longing', 'longer', 'longbow', 'long', 'lollipop', 'lockpick', 'location', 'local', 'llama', 'lizard', 'living', 'lives', 'lived', 'live', 'little', 'literally', 'listens', 'listening', 'listener', 'listened', 'list', 'liquid', 'liquefy', 'lipstick', 'lions', 'lion', 'lined', 'line', 'limeade', 'lime', 'likes', 'liked', 'like', 'lights', 'lightning', 'lighthouse', 'light', 'lifetime', 'lifestyle', 'life', 'library', 'levels', 'level', 'letter', 'lets', 'let', 'lesson', 'leprechaun', 'leopards', 'lengths', 'lemonade', 'legos', 'legless', 'left', 'leaving', 'leave', 'least', 'lease', 'learning', 'learned', 'leaking', 'lead', 'lazy', 'laziness', 'layers', 'laws', 'lawnmower', 'lawn', 'law', 'laugh', 'later', 'lasting', 'last', 'lasso', 'laser', 'large', 'laptop', 'language', 'landscape', 'landed', 'lake', 'ladys', 'lady', 'ladder', 'lack', 'labor', 'knows', 'known', 'knowing', 'know', 'knives', 'knife', 'knew', 'kittens', 'kite', 'kitchen', 'kind', 'killer', 'kill', 'kids', 'key', 'kevin', 'ketchup', 'kept', 'keep', 'karen', 'kansas', 'kangaroo', 'just', 'jungle', 'june', 'jumps', 'jumped', 'july', 'juicer', 'juice', 'jug', 'judgment', 'joyce', 'joy', 'joint', 'join', 'john', 'joe', 'jobs', 'job', 'jim', 'jewel', 'jet', 'jerry', 'jenny', 'jellyfish', 'jelly', 'jello', 'jeanne', 'jaw', 'jason', 'japanese', 'james', 'jail', 'ivy', 'ive', 'itself', 'its', 'italy', 'it', 'issues', 'isnt', 'island', 'is', 'irony', 'iron', 'invited', 'invested', 'introvert', 'into', 'intimidating', 'interviews', 'intertwined', 'interstate', 'internet', 'interesting', 'intently', 'intentional', 'intact', 'insulted', 'instructions', 'instruction', 'instilled', 'instead', 'instant', 'inspirational', 'insisted', 'insist', 'inside', 'inner', 'ink', 'initially', 'ingredient', 'information', 'infinite', 'industrial', 'indicated', 'incredibly', 'increased', 'including', 'include', 'in', 'improved', 'improve', 'impression', 'impressed', 'impossible', 'important', 'impenetrable', 'impassable', 'immense', 'immediately', 'imagine', 'im', 'ill', 'iguanas', 'iguana', 'ignited', 'if', 'ideas', 'idea', 'id', 'icon', 'icecream', 'ice', 'i', 'hurtled', 'hundreds', 'hummingbirds', 'hula', 'however', 'how', 'houses', 'house', 'hours', 'hour', 'hot', 'hospital', 'horses', 'horse', 'horror', 'hornet', 'hopes', 'hoped', 'hope', 'hoop', 'hood', 'honestly', 'homework', 'homesickness', 'home', 'hole', 'holding', 'hold', 'hog', 'hobby', 'hitchhiking', 'hit', 'history', 'his', 'himself', 'him', 'hiked', 'hike', 'highway', 'high', 'hiding', 'hide', 'hidden', 'hid', 'hesitation', 'hes', 'herself', 'hers', 'heroes', 'here', 'her', 'henry', 'help', 'hell', 'held', 'heights', 'heels', 'heed', 'hed', 'heavy', 'heaven', 'heating', 'heat', 'heard', 'hear', 'heads', 'heading', 'headhunters', 'head', 'he', 'hazard', 'hawk', 'havoc', 'having', 'havent', 'have', 'hated', 'hate', 'hat', 'hasnt', 'has', 'harrold', 'harming', 'hardship', 'hardest', 'harder', 'hard', 'happy', 'happiness', 'happier', 'happens', 'happened', 'happen', 'hangout', 'hanging', 'hang', 'handstand', 'hands', 'handkerchief', 'handful', 'handed', 'hand', 'hamburgers', 'ham', 'halted', 'half', 'hairs', 'hairier', 'hair', 'hadnt', 'had', 'hacked', 'habitat', 'habit', 'gym', 'gwen', 'guys', 'guy', 'gutter', 'guinea', 'guidelines', 'guard', 'grumbling', 'gruff', 'growing', 'grow', 'group', 'grounds', 'groundhog', 'ground', 'groan', 'grizzly', 'grief', 'grew', 'greetings', 'greener', 'green', 'greedy', 'greatly', 'greatest', 'great', 'grape', 'grandpa', 'grammar', 'graduated', 'grace', 'grabbed', 'gotten', 'got', 'gossip', 'goodbye', 'good', 'goldfishs', 'golden', 'gold', 'going', 'gods', 'gocart', 'goatee', 'goal', 'go', 'gnu', 'gnome', 'glue', 'gloves', 'glittering', 'glitter', 'gliding', 'glaze', 'glass', 'glacier', 'giving', 'give', 'girls', 'girlfriend', 'girl', 'giraffes', 'giraffe', 'gingerly', 'gin', 'gig', 'gift', 'ghosts', 'ghost', 'getting', 'get', 'geriatric', 'geography', 'gentlemans', 'generator', 'generations', 'generated', 'generally', 'gem', 'gear', 'gazelle', 'gaze', 'gave', 'gathered', 'gary', 'garlic', 'garden', 'garage', 'gangster', 'game', 'galloped', 'gallery', 'galaxy', 'future', 'furnace', 'fun', 'fumbled', 'full', 'fueled', 'fruit', 'frozen', 'front', 'from', 'frogs', 'frisbees', 'fries', 'friends', 'friendly', 'friend', 'friday', 'fresh', 'french', 'freezer', 'free', 'freaked', 'frames', 'frame', 'fragrance', 'fox', 'fowl', 'fourth', 'found', 'forward', 'forms', 'formed', 'forgot', 'forever', 'foretelling', 'forest', 'for', 'foolish', 'food', 'fond', 'followed', 'follow', 'foliage', 'folding', 'folded', 'fog', 'focus', 'flyover', 'flying', 'fly', 'fluffy', 'flowing', 'floorboards', 'floor', 'flooded', 'floating', 'floated', 'float', 'flip', 'flies', 'flew', 'fleshcolored', 'fleas', 'flavor', 'flat', 'flash', 'flag', 'fiveyearold', 'five', 'fitness', 'fishpond', 'fishing', 'fishermans', 'fishbowl', 'fish', 'first', 'firm', 'firing', 'fireworks', 'fires', 'fireflies', 'fire', 'finished', 'finish', 'fingers', 'fingerprints', 'fingernails', 'fine', 'finds', 'finding', 'find', 'finally', 'final', 'filled', 'figured', 'figleaf', 'fighting', 'fifty', 'few', 'ferret', 'fence', 'felt', 'fell', 'feet', 'feeling', 'feel', 'feedlot', 'feeding', 'feeder', 'fearsome', 'fears', 'feared', 'fear', 'favorite', 'fathers', 'father', 'fate', 'fasting', 'fashion', 'fascinating', 'farms', 'farm', 'far', 'fantasy', 'famous', 'familys', 'family', 'falling', 'fall', 'fake', 'fairly', 'failed', 'fact', 'facing', 'facemasks', 'face', 'eyes', 'eyeing', 'extroverts', 'extraordinary', 'extinction', 'extinct', 'external', 'explosive', 'exploring', 'explains', 'explaining', 'explained', 'explain', 'experience', 'expedition', 'expected', 'existence', 'existed', 'exercising', 'excuses', 'exciting', 'excitement', 'excited', 'exchanged', 'excess', 'exceptional', 'except', 'excellent', 'excelled', 'example', 'exactly', 'exact', 'evil', 'everything', 'everyone', 'everyday', 'everybody', 'every', 'ever', 'eventually', 'even', 'eureka', 'estate', 'especially', 'escaping', 'erin', 'erect', 'equipment', 'equator', 'envy', 'environment', 'entire', 'enthralled', 'entered', 'enraged', 'enough', 'enjoys', 'enjoyed', 'enjoyable', 'enjoy', 'engulfed', 'english', 'enemies', 'endured', 'ends', 'endless', 'ending', 'ended', 'end', 'encountered', 'enchantment', 'empty', 'empathy', 'emotional', 'emergency', 'embraced', 'embarrassing', 'elses', 'else', 'elephants', 'elephant', 'elegant', 'elderly', 'elbows', 'either', 'eighthour', 'eighth', 'eight', 'eggs', 'eggplant', 'effort', 'efficiency', 'effective', 'edith', 'edge', 'eating', 'eaten', 'eat', 'easy', 'easily', 'easier', 'earth', 'ears', 'earmuffs', 'early', 'ear', 'eagerly', 'each', 'dynamite', 'during', 'dungeon', 'dump', 'dullness', 'due', 'duck', 'dryer', 'drummer', 'drove', 'driving', 'drive', 'drinking', 'drink', 'dries', 'dressed', 'dreams', 'dreamed', 'dream', 'drawer', 'drank', 'dramatically', 'down', 'douglas', 'dough', 'doug', 'doris', 'door', 'donuts', 'dont', 'donkey', 'donation', 'dolphin', 'dolores', 'dollar', 'doll', 'doing', 'dogs', 'dog', 'doesnt', 'does', 'do', 'diving', 'dive', 'distance', 'disneyland', 'disgusted', 'disguised', 'discovered', 'disappointed', 'disappearance', 'directions', 'dinosaurs', 'dinner', 'dining', 'difficult', 'different', 'difference', 'diet', 'diesel', 'died', 'die', 'didnt', 'did', 'diary', 'diamonds', 'dial', 'devil', 'determined', 'detect', 'detailed', 'destruction', 'dessert', 'despite', 'desperately', 'despair', 'designer', 'desert', 'depths', 'depends', 'depended', 'dentist', 'dente', 'dense', 'demise', 'delivered', 'delighted', 'delicious', 'deepsea', 'deepfried', 'deepest', 'deep', 'decorated', 'decided', 'decide', 'decades', 'debate', 'deaths', 'death', 'deadly', 'dead', 'days', 'day', 'dawned', 'dawn', 'david', 'daughters', 'daughter', 'date', 'darts', 'darkness', 'dark', 'dannys', 'dangled', 'dangerous', 'danger', 'dane', 'dancing', 'dance', 'dan', 'damn', 'daisy', 'daily', 'cut', 'cursive', 'currently', 'current', 'curious', 'cupboard', 'cup', 'cuddly', 'cucumber', 'cubed', 'crush', 'crowded', 'crowd', 'crocodiles', 'crisp', 'criminal', 'crimes', 'crime', 'cried', 'crickets', 'crevasse', 'creativity', 'creative', 'creating', 'created', 'create', 'cream', 'crazy', 'craziness', 'crazier', 'crashing', 'crashed', 'crash', 'cranky', 'cranes', 'crackers', 'crab', 'coyotes', 'cowboy', 'cow', 'covered', 'couture', 'course', 'courage', 'couple', 'country', 'counting', 'count', 'couldnt', 'could', 'cotton', 'costume', 'cost', 'corny', 'corner', 'corn', 'cop', 'cool', 'cookies', 'cookie', 'cook', 'convinced', 'convince', 'convertible', 'continued', 'content', 'contagious', 'consisted', 'consider', 'congregating', 'confusingly', 'confused', 'confronted', 'confirmed', 'confines', 'confident', 'confidence', 'cones', 'cone', 'conditions', 'conditioning', 'conditioner', 'conclusion', 'concluded', 'concerned', 'concern', 'concentration', 'computer', 'compliments', 'complimented', 'complications', 'complicated', 'complexes', 'completely', 'complete', 'compare', 'companys', 'common', 'commit', 'commerce', 'commands', 'coming', 'comforting', 'comforters', 'comes', 'come', 'combining', 'combines', 'combined', 'colors', 'colored', 'color', 'colonies', 'college', 'collection', 'cold', 'coke', 'coin', 'coherent', 'coffins', 'coffin', 'coffee', 'code', 'coating', 'coal', 'club', 'clowns', 'clown', 'clouds', 'closet', 'closer', 'closed', 'clocks', 'clock', 'climbers', 'clear', 'cleaning', 'clean', 'clauses', 'class', 'city', 'circus', 'circles', 'cinnamon', 'cigars', 'cigarettes', 'cigarette', 'church', 'chunks', 'christmas', 'chosen', 'chose', 'choosing', 'choir', 'choice', 'chocolate', 'chips', 'chill', 'childs', 'children', 'childlike', 'childish', 'childbirth', 'child', 'chief', 'chicken', 'chic', 'chewing', 'cherries', 'cheese', 'cheerios', 'checked', 'check', 'cheating', 'cheated', 'cheat', 'chaucer', 'charles', 'charity', 'charisma', 'channel', 'changing', 'changed', 'change', 'challenge', 'chalkboard', 'certain', 'cereal', 'center', 'cellphones', 'cell', 'ceiling', 'cautiously', 'causes', 'caused', 'caught', 'cats', 'catchup', 'catching', 'catch', 'cat', 'cashews', 'cars', 'carpet', 'carol', 'careful', 'career', 'cared', 'care', 'caramel', 'car', 'cap', 'canyon', 'cant', 'candy', 'candied', 'canceled', 'can', 'campground', 'campers', 'camp', 'came', 'calves', 'calories', 'called', 'call', 'calculator', 'cake', 'cactus', 'cabin', 'cabbage', 'by', 'buy', 'butts', 'button', 'buttered', 'butter', 'but', 'busy', 'busker', 'business', 'bus', 'burnt', 'burns', 'burning', 'burned', 'buried', 'burger', 'buoys', 'buns', 'bunny', 'bunker', 'bullet', 'built', 'building', 'build', 'bug', 'budgie', 'brush', 'browser', 'brown', 'brought', 'brother', 'broken', 'broke', 'bristlecone', 'bring', 'bright', 'bridge', 'bricks', 'brick', 'brian', 'breaking', 'bread', 'brandy', 'brand', 'brake', 'brain', 'boy', 'box', 'bowling', 'bowl', 'boulders', 'bought', 'bottles', 'bottle', 'bother', 'both', 'borrowed', 'book', 'bongos', 'bond', 'bold', 'boil', 'body', 'boat', 'blurred', 'blue', 'blown', 'blood', 'blog', 'blinking', 'blimp', 'blasted', 'blamed', 'black', 'bitter', 'bite', 'biscuits', 'birthday', 'birth', 'birds', 'bird', 'bills', 'bill', 'bikini', 'biggest', 'big', 'bicycle', 'between', 'better', 'best', 'beneath', 'belly', 'believed', 'believe', 'belief', 'being', 'behind', 'beginning', 'begin', 'before', 'bees', 'beer', 'been', 'beef', 'bee', 'bedspreads', 'bedroom', 'bed', 'becoming', 'become', 'becky', 'because', 'became', 'beauty', 'beautiful', 'beats', 'bears', 'bear', 'beam', 'beacon', 'beachcombing', 'beach', 'be', 'batteries', 'bathtub', 'bathroom', 'bathing', 'bath', 'basket', 'basement', 'bars', 'barrier', 'barley', 'barking', 'barked', 'barefoot', 'barbed', 'barbecue', 'bar', 'bank', 'band', 'bananas', 'banana', 'bamboo', 'balls', 'balloons', 'balloon', 'ballet', 'ball', 'bakery', 'bait', 'baggage', 'bag', 'bad', 'bacon', 'backward', 'backcountry', 'back', 'bachelorette', 'baby', 'baboons', 'away', 'aware', 'awaited', 'avoid', 'avocado', 'avalanche', 'available', 'auto', 'authority', 'aunts', 'attire', 'attendant', 'attendance', 'attacks', 'attacked', 'ate', 'at', 'asteroid', 'ass', 'asks', 'asking', 'asked', 'ask', 'asia', 'as', 'artist', 'artificial', 'art', 'arrived', 'arrested', 'around', 'aroma', 'armor', 'armadillo', 'arm', 'argument', 'arent', 'are', 'aquarium', 'approve', 'appropriate', 'approaches', 'appreciated', 'appreciate', 'appointment', 'apply', 'applied', 'apples', 'apple', 'appeared', 'appealing', 'apart', 'anyway', 'anything', 'anyone', 'anybody', 'any', 'anxiety', 'ants', 'anticipated', 'antenna', 'answered', 'answer', 'another', 'annoying', 'annoy', 'announcement', 'animals', 'animal', 'angry', 'angled', 'angle', 'andy', 'and', 'anaconda', 'an', 'amusement', 'amused', 'amounts', 'amount', 'among', 'amazing', 'amazed', 'amateurs', 'am', 'always', 'altitude', 'although', 'also', 'already', 'along', 'alone', 'almost', 'almonds', 'almond', 'allow', 'alligator', 'all', 'alive', 'alien', 'albums', 'al', 'air', 'ahead', 'ago', 'agent', 'age', 'against', 'again', 'after', 'african', 'africa', 'aesthetic', 'advised', 'advice', 'advertising', 'adventure', 'adult', 'admit', 'admirable', 'actually', 'activities', 'action', 'acting', 'across', 'acres', 'acquired', 'accused', 'accosted', 'accidentally', 'accepting', 'acceptable', 'accept', 'abstraction', 'above', 'about', 'able', 'ability', 'abandoned', 'a', '97', '8', '500', '4montholds', '45degree', '4', '3', '2day', '25', '216th', '2', '18', '17thcentury', '1234', '1111', '100', '10', '1']\n"
          ]
        }
      ]
    },
    {
      "cell_type": "code",
      "source": [
        "#punto3\n",
        "\n",
        "newvoc={}\n",
        "\n",
        "dataset = \"./Dataset/stop_words.txt\"\n",
        "stopwords=[]\n",
        "myfile1= open(dataset, 'r')\n",
        "\n",
        "\n",
        "for line in myfile1:\n",
        "  linecorretta1=line.strip()\n",
        "  linecorretta1=linecorretta1.lower()\n",
        "  linelist1= linecorretta1.split()\n",
        "  stopwords.append(linelist1)\n",
        "\n",
        "\n",
        "# for el in frequenza:\n",
        "#   if frequenza[el]>=2 and frequenza[el]<=100 and el not in stopwords:\n",
        "#     newvoc[el]=frequenza[el]\n",
        "\n",
        "\n",
        "for el in frequenza:\n",
        "  if frequenza[el]<= 100:\n",
        "    if frequenza.get(el)==min(Freque):\n",
        "     print(f'{el}  {frequenza.get(el)}')\n",
        "\n",
        "for el in frequenza:\n",
        "  if frequenza[el]<= 100:\n",
        "    if frequenza.get(el)==max(Freque):\n",
        "      print(f'{el}   {frequenza.get(el)}')\n",
        "\n",
        "\n",
        "for el in frequenza:\n",
        "  if frequenza[el]>=2:\n",
        "    if frequenza.get(el)==min(Freque):\n",
        "     print(f'{el}  {frequenza.get(el)}')\n",
        "\n",
        "for el in frequenza:\n",
        "  if frequenza[el]>= 2:\n",
        "    if frequenza.get(el)==max(Freque):\n",
        "      print(f'{el}   {frequenza.get(el)}')\n",
        "\n",
        "\n",
        "\n",
        "for el in frequenza:\n",
        "  if frequenza[el] not in stopwords:\n",
        "    if frequenza.get(el)==min(Freque):\n",
        "     print(f'{el}  {frequenza.get(el)}')\n",
        "\n",
        "for el in frequenza:\n",
        "  if frequenza[el] not in stopwords:\n",
        "    if frequenza.get(el)==max(Freque):\n",
        "      print(f'{el}   {frequenza.get(el)}')"
      ],
      "metadata": {
        "id": "-K3QZGUsUlDr"
      },
      "execution_count": null,
      "outputs": []
    },
    {
      "cell_type": "code",
      "source": [],
      "metadata": {
        "id": "bagw2vH0ZT-b"
      },
      "execution_count": null,
      "outputs": []
    }
  ]
}