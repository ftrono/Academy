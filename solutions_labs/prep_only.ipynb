{
 "cells": [
  {
   "cell_type": "markdown",
   "metadata": {},
   "source": [
    "## Corpus"
   ]
  },
  {
   "cell_type": "code",
   "execution_count": null,
   "metadata": {},
   "outputs": [],
   "source": [
    "#CLEAN ORIGINAL DATASET:\n",
    "import re\n",
    "fcorpus = open(\"../Dataset/sample_corpus.txt\", 'r')\n",
    "fnew = open(\"../Dataset/new_corpus.txt\", 'w')\n",
    "\n",
    "for line in fcorpus:\n",
    "    tline = re.sub(r'[^\\w\\s]', '', line.strip())\n",
    "    fnew.write(f\"{tline}\\n\")\n",
    "\n",
    "fcorpus.close()\n",
    "fnew.close()"
   ]
  },
  {
   "cell_type": "code",
   "execution_count": null,
   "metadata": {},
   "outputs": [],
   "source": [
    "#GENERAZIONE FILE DI STOP WORDS:\n",
    "import random\n",
    "\n",
    "outfile = open(\"../Dataset/stop_words.txt\", \"w\")\n",
    "vocabulary = [] ###\n",
    "\n",
    "for i in range(50):\n",
    "    ind = random.randint(0, len(vocabulary))\n",
    "    caps = random.randint(0,1)\n",
    "    word = vocabulary[ind]\n",
    "    if caps == 1:\n",
    "        word = word.title()\n",
    "    outfile.write(f\"{word}\\n\")\n",
    "\n",
    "outfile.close()"
   ]
  }
 ],
 "metadata": {
  "language_info": {
   "name": "python"
  },
  "orig_nbformat": 4
 },
 "nbformat": 4,
 "nbformat_minor": 2
}
