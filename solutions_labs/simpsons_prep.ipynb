{
 "cells": [
  {
   "cell_type": "markdown",
   "metadata": {},
   "source": [
    "## Preparazione dataset Simpsons\n",
    "\n",
    "1) Conversione a file"
   ]
  },
  {
   "cell_type": "code",
   "execution_count": 83,
   "metadata": {},
   "outputs": [
    {
     "name": "stderr",
     "output_type": "stream",
     "text": [
      "/tmp/ipykernel_619/3908780766.py:5: DtypeWarning: Columns (4,5,6) have mixed types. Specify dtype option on import or set low_memory=False.\n",
      "  full = pd.read_csv(dataset)\n"
     ]
    },
    {
     "data": {
      "text/plain": [
       "Index(['id', 'episode_id', 'number', 'raw_text', 'timestamp_in_ms',\n",
       "       'speaking_line', 'character_id', 'location_id', 'raw_character_text',\n",
       "       'raw_location_text', 'spoken_words', 'normalized_text', 'word_count'],\n",
       "      dtype='object')"
      ]
     },
     "execution_count": 83,
     "metadata": {},
     "output_type": "execute_result"
    }
   ],
   "source": [
    "import pandas as pd\n",
    "\n",
    "dataset = \"../Dataset/simpsons_orig.csv\"\n",
    "\n",
    "full = pd.read_csv(dataset)\n",
    "full.columns"
   ]
  },
  {
   "cell_type": "code",
   "execution_count": 84,
   "metadata": {},
   "outputs": [
    {
     "data": {
      "text/html": [
       "<div>\n",
       "<style scoped>\n",
       "    .dataframe tbody tr th:only-of-type {\n",
       "        vertical-align: middle;\n",
       "    }\n",
       "\n",
       "    .dataframe tbody tr th {\n",
       "        vertical-align: top;\n",
       "    }\n",
       "\n",
       "    .dataframe thead th {\n",
       "        text-align: right;\n",
       "    }\n",
       "</style>\n",
       "<table border=\"1\" class=\"dataframe\">\n",
       "  <thead>\n",
       "    <tr style=\"text-align: right;\">\n",
       "      <th></th>\n",
       "      <th>index</th>\n",
       "      <th>id</th>\n",
       "      <th>episode_id</th>\n",
       "      <th>number</th>\n",
       "      <th>raw_text</th>\n",
       "      <th>timestamp_in_ms</th>\n",
       "      <th>speaking_line</th>\n",
       "      <th>character_id</th>\n",
       "      <th>location_id</th>\n",
       "      <th>raw_character_text</th>\n",
       "      <th>raw_location_text</th>\n",
       "      <th>spoken_words</th>\n",
       "      <th>normalized_text</th>\n",
       "      <th>word_count</th>\n",
       "    </tr>\n",
       "  </thead>\n",
       "  <tbody>\n",
       "    <tr>\n",
       "      <th>0</th>\n",
       "      <td>0</td>\n",
       "      <td>9549</td>\n",
       "      <td>32</td>\n",
       "      <td>209</td>\n",
       "      <td>Miss Hoover: No, actually, it was a little of ...</td>\n",
       "      <td>848000</td>\n",
       "      <td>True</td>\n",
       "      <td>464.0</td>\n",
       "      <td>3.0</td>\n",
       "      <td>Miss Hoover</td>\n",
       "      <td>Springfield Elementary School</td>\n",
       "      <td>No, actually, it was a little of both. Sometim...</td>\n",
       "      <td>no actually it was a little of both sometimes ...</td>\n",
       "      <td>31</td>\n",
       "    </tr>\n",
       "    <tr>\n",
       "      <th>1</th>\n",
       "      <td>1</td>\n",
       "      <td>9550</td>\n",
       "      <td>32</td>\n",
       "      <td>210</td>\n",
       "      <td>Lisa Simpson: (NEAR TEARS) Where's Mr. Bergstrom?</td>\n",
       "      <td>856000</td>\n",
       "      <td>True</td>\n",
       "      <td>9.0</td>\n",
       "      <td>3.0</td>\n",
       "      <td>Lisa Simpson</td>\n",
       "      <td>Springfield Elementary School</td>\n",
       "      <td>Where's Mr. Bergstrom?</td>\n",
       "      <td>wheres mr bergstrom</td>\n",
       "      <td>3</td>\n",
       "    </tr>\n",
       "    <tr>\n",
       "      <th>2</th>\n",
       "      <td>2</td>\n",
       "      <td>9551</td>\n",
       "      <td>32</td>\n",
       "      <td>211</td>\n",
       "      <td>Miss Hoover: I don't know. Although I'd sure l...</td>\n",
       "      <td>856000</td>\n",
       "      <td>True</td>\n",
       "      <td>464.0</td>\n",
       "      <td>3.0</td>\n",
       "      <td>Miss Hoover</td>\n",
       "      <td>Springfield Elementary School</td>\n",
       "      <td>I don't know. Although I'd sure like to talk t...</td>\n",
       "      <td>i dont know although id sure like to talk to h...</td>\n",
       "      <td>22</td>\n",
       "    </tr>\n",
       "  </tbody>\n",
       "</table>\n",
       "</div>"
      ],
      "text/plain": [
       "   index    id  episode_id  number  \\\n",
       "0      0  9549          32     209   \n",
       "1      1  9550          32     210   \n",
       "2      2  9551          32     211   \n",
       "\n",
       "                                            raw_text timestamp_in_ms  \\\n",
       "0  Miss Hoover: No, actually, it was a little of ...          848000   \n",
       "1  Lisa Simpson: (NEAR TEARS) Where's Mr. Bergstrom?          856000   \n",
       "2  Miss Hoover: I don't know. Although I'd sure l...          856000   \n",
       "\n",
       "  speaking_line character_id  location_id raw_character_text  \\\n",
       "0          True        464.0          3.0        Miss Hoover   \n",
       "1          True          9.0          3.0       Lisa Simpson   \n",
       "2          True        464.0          3.0        Miss Hoover   \n",
       "\n",
       "               raw_location_text  \\\n",
       "0  Springfield Elementary School   \n",
       "1  Springfield Elementary School   \n",
       "2  Springfield Elementary School   \n",
       "\n",
       "                                        spoken_words  \\\n",
       "0  No, actually, it was a little of both. Sometim...   \n",
       "1                             Where's Mr. Bergstrom?   \n",
       "2  I don't know. Although I'd sure like to talk t...   \n",
       "\n",
       "                                     normalized_text word_count  \n",
       "0  no actually it was a little of both sometimes ...         31  \n",
       "1                                wheres mr bergstrom          3  \n",
       "2  i dont know although id sure like to talk to h...         22  "
      ]
     },
     "execution_count": 84,
     "metadata": {},
     "output_type": "execute_result"
    }
   ],
   "source": [
    "spoken = full[full['speaking_line'] == True].dropna().reset_index()\n",
    "spoken.head(3)"
   ]
  },
  {
   "cell_type": "code",
   "execution_count": 85,
   "metadata": {},
   "outputs": [],
   "source": [
    "episodes = spoken['episode_id']\n",
    "locations = spoken['raw_location_text']\n",
    "said_sentences = spoken['raw_text']"
   ]
  },
  {
   "cell_type": "code",
   "execution_count": 86,
   "metadata": {},
   "outputs": [
    {
     "name": "stdout",
     "output_type": "stream",
     "text": [
      "108680 108680 108680\n"
     ]
    }
   ],
   "source": [
    "print(len(episodes), len(locations), len(said_sentences))"
   ]
  },
  {
   "cell_type": "code",
   "execution_count": 87,
   "metadata": {},
   "outputs": [
    {
     "data": {
      "text/plain": [
       "[\"32: Springfield Elementary School: Miss Hoover: No, actually, it was a little of both. Sometimes when a disease is in all the magazines and all the news shows, it's only natural that you think you have it.\",\n",
       " \"32: Springfield Elementary School: Lisa Simpson: (NEAR TEARS) Where's Mr. Bergstrom?\",\n",
       " \"32: Springfield Elementary School: Miss Hoover: I don't know. Although I'd sure like to talk to him. He didn't touch my lesson plan. What did he teach you?\",\n",
       " '32: Springfield Elementary School: Lisa Simpson: That life is worth living.',\n",
       " \"32: Springfield Elementary School: Edna Krabappel-Flanders: The polls will be open from now until the end of recess. Now, (SOUR) just in case any of you have decided to put any thought into this, we'll have our final statements. Martin?\",\n",
       " \"32: Springfield Elementary School: Martin Prince: (HOARSE WHISPER) I don't think there's anything left to say.\",\n",
       " '32: Springfield Elementary School: Edna Krabappel-Flanders: Bart?',\n",
       " '32: Springfield Elementary School: Bart Simpson: Victory party under the slide!',\n",
       " '32: Apartment Building: Lisa Simpson: (CALLING) Mr. Bergstrom! Mr. Bergstrom!',\n",
       " '32: Apartment Building: Landlady: Hey, hey, he Moved out this morning. He must have a new job -- he took his Copernicus costume.']"
      ]
     },
     "execution_count": 87,
     "metadata": {},
     "output_type": "execute_result"
    }
   ],
   "source": [
    "sentences = []\n",
    "\n",
    "for i in range(len(episodes)):\n",
    "    sent = f\"{episodes[i]}: {locations[i]}: {said_sentences[i]}\"\n",
    "    sentences.append(sent)\n",
    "\n",
    "sentences[0:10]"
   ]
  },
  {
   "cell_type": "code",
   "execution_count": 88,
   "metadata": {},
   "outputs": [
    {
     "name": "stdout",
     "output_type": "stream",
     "text": [
      "32: Springfield Elementary School: Miss Hoover: No, actually, it was a little of both. Sometimes when a disease is in all the magazines and all the news shows, it's only natural that you think you have it.\n"
     ]
    }
   ],
   "source": [
    "print(sentences[0])"
   ]
  },
  {
   "cell_type": "code",
   "execution_count": 89,
   "metadata": {},
   "outputs": [
    {
     "data": {
      "text/plain": [
       "[\"32: Springfield Elementary School: Miss Hoover: No, actually, it was a little of both. Sometimes when a disease is in all the magazines and all the news shows, it's only natural that you think you have it.\",\n",
       " \"32: Springfield Elementary School: Lisa Simpson:  Where's Mr. Bergstrom?\",\n",
       " \"32: Springfield Elementary School: Miss Hoover: I don't know. Although I'd sure like to talk to him. He didn't touch my lesson plan. What did he teach you?\",\n",
       " '32: Springfield Elementary School: Lisa Simpson: That life is worth living.',\n",
       " \"32: Springfield Elementary School: Edna Krabappel-Flanders: The polls will be open from now until the end of recess. Now,  just in case any of you have decided to put any thought into this, we'll have our final statements. Martin?\",\n",
       " \"32: Springfield Elementary School: Martin Prince:  I don't think there's anything left to say.\",\n",
       " '32: Springfield Elementary School: Edna Krabappel-Flanders: Bart?',\n",
       " '32: Springfield Elementary School: Bart Simpson: Victory party under the slide!',\n",
       " '32: Apartment Building: Lisa Simpson:  Mr. Bergstrom! Mr. Bergstrom!',\n",
       " '32: Apartment Building: Landlady: Hey, hey, he Moved out this morning. He must have a new job -- he took his Copernicus costume.']"
      ]
     },
     "execution_count": 89,
     "metadata": {},
     "output_type": "execute_result"
    }
   ],
   "source": [
    "import re\n",
    "\n",
    "new_sentences = []\n",
    "\n",
    "for sent in sentences:\n",
    "    newsent = re.sub(r\"\\(.*\\)\", \"\", sent)\n",
    "    new_sentences.append(newsent)\n",
    "\n",
    "new_sentences[0:10]"
   ]
  },
  {
   "cell_type": "markdown",
   "metadata": {},
   "source": [
    "Export txt, sents only:"
   ]
  },
  {
   "cell_type": "code",
   "execution_count": 90,
   "metadata": {},
   "outputs": [],
   "source": [
    "outfile = open(\"../out/simpsons.txt\", 'w')\n",
    "\n",
    "for sent in new_sentences:\n",
    "    outfile.write(f\"{sent}\\n\")\n",
    "\n",
    "outfile.close()"
   ]
  },
  {
   "cell_type": "markdown",
   "metadata": {},
   "source": [
    "Process sents to JSON:"
   ]
  },
  {
   "cell_type": "code",
   "execution_count": 93,
   "metadata": {},
   "outputs": [],
   "source": [
    "import json\n",
    "\n",
    "simpsons = {}\n",
    "\n",
    "#add progressive id as key:\n",
    "for i in range(len(new_sentences)):\n",
    "    splitted = new_sentences[i].strip().split(':')\n",
    "    if len(splitted) == 4:\n",
    "        simpsons[i] = {'episode_id': splitted[0].strip(), 'location': splitted[1].strip(), 'character': splitted[2].strip(), 'sentence': splitted[3].strip()}\n",
    "\n",
    "json.dump(simpsons, open(\"../out/simpsons.json\", 'w'))"
   ]
  },
  {
   "cell_type": "markdown",
   "metadata": {},
   "source": [
    "Process sents to DataFrame:"
   ]
  },
  {
   "cell_type": "code",
   "execution_count": 94,
   "metadata": {},
   "outputs": [],
   "source": [
    "episode_id = []\n",
    "location = []\n",
    "character = []\n",
    "sentence = []\n",
    "\n",
    "for sent in new_sentences:\n",
    "    splitted = sent.strip().split(':')\n",
    "    if len(splitted) == 4:\n",
    "        episode_id.append(splitted[0].strip())\n",
    "        location.append(splitted[1].strip())\n",
    "        character.append(splitted[2].strip())\n",
    "        sentence.append(splitted[3].strip())\n",
    "\n",
    "df_simpsons = pd.DataFrame({'episode_id': episode_id, 'location': location, 'character': character, 'sentence': sentence})\n",
    "df_simpsons.to_csv('../out/simpsons.csv', index=False)"
   ]
  }
 ],
 "metadata": {
  "kernelspec": {
   "display_name": "Python 3",
   "language": "python",
   "name": "python3"
  },
  "language_info": {
   "codemirror_mode": {
    "name": "ipython",
    "version": 3
   },
   "file_extension": ".py",
   "mimetype": "text/x-python",
   "name": "python",
   "nbconvert_exporter": "python",
   "pygments_lexer": "ipython3",
   "version": "3.10.6"
  },
  "orig_nbformat": 4
 },
 "nbformat": 4,
 "nbformat_minor": 2
}
