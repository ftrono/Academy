{
 "cells": [
  {
   "cell_type": "markdown",
   "metadata": {},
   "source": [
    "## Liste labs\n",
    "\n",
    "Media di una lista:"
   ]
  },
  {
   "cell_type": "code",
   "execution_count": 2,
   "metadata": {},
   "outputs": [
    {
     "name": "stdout",
     "output_type": "stream",
     "text": [
      "[394, 522, 285, 902, 241, 462, 736, 563, 670, 530, 961, 870, 617, 897, 840, 505, 963, 970, 844, 968, 287, 283, 574, 366, 931, 881, 244, 393, 316, 314, 585, 893, 435, 918, 357, 227, 903, 220, 613, 814, 296, 638, 62, 77, 78, 580, 895, 454, 181, 533, 490, 234, 360, 888, 394, 186, 7, 842, 69, 949, 618, 593, 418, 314, 113, 388, 821, 123, 320, 296, 637, 894, 858, 586, 491, 58, 791, 288, 367, 430, 107, 859, 601, 788, 709, 408, 96, 745, 649, 256, 842, 504, 841, 795, 77, 747, 398, 357, 977, 409]\n",
      "530.76\n"
     ]
    }
   ],
   "source": [
    "import random\n",
    "\n",
    "def average(mylist):\n",
    "    return sum(mylist) / len(mylist)\n",
    "\n",
    "mylist = [random.randint(0,1000) for i in range(100)]\n",
    "print(mylist)\n",
    "print(average(mylist))"
   ]
  },
  {
   "cell_type": "markdown",
   "metadata": {},
   "source": [
    "Somma dei quadrati:"
   ]
  },
  {
   "cell_type": "code",
   "execution_count": 5,
   "metadata": {},
   "outputs": [
    {
     "name": "stdout",
     "output_type": "stream",
     "text": [
      "35,980,752.00\n"
     ]
    }
   ],
   "source": [
    "def sumOfSquares(mylist):\n",
    "    return sum([x**2 for x in mylist])\n",
    "\n",
    "print(f\"{sumOfSquares(mylist):,.2f}\")"
   ]
  },
  {
   "cell_type": "markdown",
   "metadata": {},
   "source": [
    "Somma dei pari:"
   ]
  },
  {
   "cell_type": "code",
   "execution_count": 7,
   "metadata": {},
   "outputs": [
    {
     "name": "stdout",
     "output_type": "stream",
     "text": [
      "6\n"
     ]
    }
   ],
   "source": [
    "def sommaPari(mylist):\n",
    "    return sum([x for x in mylist if x % 2 == 0])\n",
    "\n",
    "print(sommaPari([1,2,3,4]))"
   ]
  },
  {
   "cell_type": "markdown",
   "metadata": {},
   "source": [
    "Conteggio parole fino ad occorrenza:"
   ]
  },
  {
   "cell_type": "code",
   "execution_count": 8,
   "metadata": {},
   "outputs": [
    {
     "name": "stdout",
     "output_type": "stream",
     "text": [
      "2\n"
     ]
    }
   ],
   "source": [
    "def countUpToWord(mylist, word):\n",
    "    i = 0\n",
    "    while mylist[i] != word:\n",
    "        i += 1\n",
    "    return i\n",
    "\n",
    "print(countUpToWord(['ciao', 'caro', 'sam'], 'sam'))"
   ]
  },
  {
   "cell_type": "code",
   "execution_count": 9,
   "metadata": {},
   "outputs": [
    {
     "name": "stdout",
     "output_type": "stream",
     "text": [
      "2\n"
     ]
    }
   ],
   "source": [
    "mylist = ['ciao', 'caro', 'sam']\n",
    "print(mylist.index('sam'))"
   ]
  },
  {
   "cell_type": "markdown",
   "metadata": {},
   "source": [
    "Sostituzione items in stringa:"
   ]
  },
  {
   "cell_type": "code",
   "execution_count": 16,
   "metadata": {},
   "outputs": [
    {
     "data": {
      "text/plain": [
       "'spam'"
      ]
     },
     "execution_count": 16,
     "metadata": {},
     "output_type": "execute_result"
    }
   ],
   "source": [
    "def replace_occurrences(str1, old, new):\n",
    "    i = 0\n",
    "    new_str = ''\n",
    "    length = len(old)\n",
    "    while i < len(str1):\n",
    "        current = str1[i:(i+length)]\n",
    "        #print(current)\n",
    "        if current == old:\n",
    "            new_str += new\n",
    "            i += length\n",
    "        else:          \n",
    "            new_str += str1[i]\n",
    "            i += 1\n",
    "    return new_str\n",
    "\n",
    "replace_occurrences('spom', 'om', 'am')"
   ]
  },
  {
   "cell_type": "code",
   "execution_count": 17,
   "metadata": {},
   "outputs": [
    {
     "name": "stdout",
     "output_type": "stream",
     "text": [
      "I love spam! Spam is my favorite food. Spam, spam, spam, yum!\n"
     ]
    }
   ],
   "source": [
    "def replace(str1, old, new):\n",
    "    converted = str1.split()\n",
    "    replaced = []\n",
    "    for word in converted:\n",
    "        new_word = replace_occurrences(word, old, new)\n",
    "        replaced.append(new_word)\n",
    "    new_string = \" \".join(replaced)\n",
    "    return new_string\n",
    "\n",
    "str1 = 'I love spom!  Spom is my favorite food.  Spom, spom, spom, yum!'\n",
    "print(replace(str1, 'om', 'am'))"
   ]
  },
  {
   "cell_type": "markdown",
   "metadata": {},
   "source": [
    "Sdoppiamenti:"
   ]
  },
  {
   "cell_type": "code",
   "execution_count": 18,
   "metadata": {},
   "outputs": [
    {
     "name": "stdout",
     "output_type": "stream",
     "text": [
      "[4, 6, 8]\n"
     ]
    }
   ],
   "source": [
    "def even_only(mylist):\n",
    "    return [x for x in mylist if x % 2 == 0]\n",
    "\n",
    "print(even_only([1, 4, 6, 7, 8]))"
   ]
  },
  {
   "cell_type": "markdown",
   "metadata": {},
   "source": [
    "Concateno 2 liste creando una terza lista indipendente:"
   ]
  },
  {
   "cell_type": "code",
   "execution_count": 24,
   "metadata": {},
   "outputs": [
    {
     "name": "stdout",
     "output_type": "stream",
     "text": [
      "[1, 4, 6, 7, 8, 5, 6, 0]\n",
      "[1, 4, 6, 7, 10]\n",
      "[1, 4, 6, 7, 8, 5, 6, 0]\n"
     ]
    }
   ],
   "source": [
    "a = [1, 4, 6, 7, 8]\n",
    "b = [5, 6, 0]\n",
    "\n",
    "c = a+b\n",
    "print(c)\n",
    "\n",
    "#check:\n",
    "a[-1] = 10\n",
    "print(a)\n",
    "print(c)"
   ]
  },
  {
   "cell_type": "markdown",
   "metadata": {},
   "source": [
    "Concateno 2 liste modificando direttamente la prima:"
   ]
  },
  {
   "cell_type": "code",
   "execution_count": 25,
   "metadata": {},
   "outputs": [
    {
     "name": "stdout",
     "output_type": "stream",
     "text": [
      "[1, 4, 6, 7, 8, 5, 6, 0]\n",
      "[5, 6, 10]\n",
      "[1, 4, 6, 7, 8, 5, 6, 0]\n"
     ]
    }
   ],
   "source": [
    "a = [1, 4, 6, 7, 8]\n",
    "b = [5, 6, 0]\n",
    "\n",
    "def appendToFirst(a, b):\n",
    "    for el in b:\n",
    "        a.append(el)\n",
    "    return a\n",
    "\n",
    "print(appendToFirst(a, b))\n",
    "\n",
    "#check:\n",
    "b[-1] = 10\n",
    "print(b)\n",
    "print(a)"
   ]
  },
  {
   "cell_type": "markdown",
   "metadata": {},
   "source": [
    "Elementi univoci (not in list)"
   ]
  },
  {
   "cell_type": "markdown",
   "metadata": {},
   "source": [
    "Unione di 2 liste (concatenazione senza duplicati):"
   ]
  },
  {
   "cell_type": "code",
   "execution_count": 27,
   "metadata": {},
   "outputs": [
    {
     "name": "stdout",
     "output_type": "stream",
     "text": [
      "[1, 4, 6, 7, 8, 5, 0]\n"
     ]
    }
   ],
   "source": [
    "def unione(a, b):\n",
    "    c = []\n",
    "    concatenated = a + b\n",
    "    for el in concatenated:\n",
    "        if el not in c:\n",
    "            c.append(el)\n",
    "    return c\n",
    "\n",
    "a = [1, 4, 6, 7, 8]\n",
    "b = [5, 6, 0]\n",
    "print(unione(a, b))"
   ]
  },
  {
   "cell_type": "markdown",
   "metadata": {},
   "source": [
    "Intersezione di 2 liste:"
   ]
  },
  {
   "cell_type": "code",
   "execution_count": 31,
   "metadata": {},
   "outputs": [
    {
     "name": "stdout",
     "output_type": "stream",
     "text": [
      "[6]\n"
     ]
    }
   ],
   "source": [
    "def intersezione(a, b):\n",
    "    c = []\n",
    "    concatenated = a + b\n",
    "    for el in concatenated:\n",
    "        if (el not in c) and (el in a) and (el in b):\n",
    "            c.append(el)\n",
    "    return c\n",
    "\n",
    "a = [1, 4, 6, 7, 8]\n",
    "b = [5, 6, 0]\n",
    "print(intersezione(a, b))"
   ]
  }
 ],
 "metadata": {
  "kernelspec": {
   "display_name": "Python 3",
   "language": "python",
   "name": "python3"
  },
  "language_info": {
   "codemirror_mode": {
    "name": "ipython",
    "version": 3
   },
   "file_extension": ".py",
   "mimetype": "text/x-python",
   "name": "python",
   "nbconvert_exporter": "python",
   "pygments_lexer": "ipython3",
   "version": "3.10.6"
  },
  "orig_nbformat": 4
 },
 "nbformat": 4,
 "nbformat_minor": 2
}
