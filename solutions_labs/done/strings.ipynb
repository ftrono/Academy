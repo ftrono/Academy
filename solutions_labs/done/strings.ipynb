{
 "cells": [
  {
   "cell_type": "markdown",
   "metadata": {},
   "source": [
    "## Stringhe\n",
    "\n",
    "#### Stringhe composte"
   ]
  },
  {
   "cell_type": "code",
   "execution_count": 1,
   "metadata": {},
   "outputs": [
    {
     "name": "stdout",
     "output_type": "stream",
     "text": [
      "Ciao agenti Giuseppe, Enrico e Mario\n"
     ]
    }
   ],
   "source": [
    "ag1 = 'Giuseppe'\n",
    "ag2 = 'Enrico'\n",
    "ag3 = 'Mario'\n",
    "\n",
    "str1 = f\"Ciao agenti {ag1}, {ag2} e {ag3}\"\n",
    "print(str1)"
   ]
  },
  {
   "cell_type": "code",
   "execution_count": 2,
   "metadata": {},
   "outputs": [
    {
     "name": "stdout",
     "output_type": "stream",
     "text": [
      "Ciao agenti Giuseppe, Enrico e Mario\n"
     ]
    }
   ],
   "source": [
    "str2 = \"Ciao agenti \" + ag1 + \", \" + ag2 + \" e \" + ag3\n",
    "print(str2)"
   ]
  },
  {
   "cell_type": "code",
   "execution_count": 3,
   "metadata": {},
   "outputs": [
    {
     "name": "stdout",
     "output_type": "stream",
     "text": [
      "Ciao agenti Giuseppe, Enrico e Mario\n"
     ]
    }
   ],
   "source": [
    "str3 = \"Ciao agenti {}, {} e {}\".format(ag1, ag2, ag3)\n",
    "print(str3)"
   ]
  },
  {
   "cell_type": "markdown",
   "metadata": {},
   "source": [
    "#### Esercizi\n",
    "\n",
    "Regex:"
   ]
  },
  {
   "cell_type": "code",
   "execution_count": 1,
   "metadata": {},
   "outputs": [
    {
     "name": "stdout",
     "output_type": "stream",
     "text": [
      "Ciao oggi a Nardò in provincia di Lecce ci sono 23 gradi Previsto più caldo nella provincia di Lecce\n"
     ]
    }
   ],
   "source": [
    "import re\n",
    "\n",
    "mystring = \"Ciao, oggi a Nardò, in provincia di Lecce, ci sono 23 gradi. Previsto più caldo nella provincia di Lecce\"\n",
    "\n",
    "newstring = re.sub(r'[^\\w\\s]', '', mystring)\n",
    "print(newstring)"
   ]
  },
  {
   "cell_type": "markdown",
   "metadata": {},
   "source": [
    "Funzione che inverte il suo argomento:"
   ]
  },
  {
   "cell_type": "code",
   "execution_count": 4,
   "metadata": {},
   "outputs": [
    {
     "name": "stdout",
     "output_type": "stream",
     "text": [
      "olleh\n"
     ]
    }
   ],
   "source": [
    "def reverse(s):\n",
    "    inverse = \"\"\n",
    "    for i in range(1, len(s)+1):\n",
    "        inverse = inverse + s[-i]\n",
    "    return inverse\n",
    "\n",
    "print(reverse(\"hello\"))"
   ]
  },
  {
   "cell_type": "markdown",
   "metadata": {},
   "source": [
    "Rimuovere tutte le occorrenze di una stringa:"
   ]
  },
  {
   "cell_type": "code",
   "execution_count": 7,
   "metadata": {},
   "outputs": [
    {
     "name": "stdout",
     "output_type": "stream",
     "text": [
      "pple\n"
     ]
    }
   ],
   "source": [
    "def remove_letter(lett, str1):\n",
    "    new_str = ''\n",
    "    for i in str1:\n",
    "        if i != lett:\n",
    "            new_str += i\n",
    "    return new_str\n",
    "\n",
    "print(remove_letter('a', 'apple'))"
   ]
  },
  {
   "cell_type": "markdown",
   "metadata": {},
   "source": [
    "Rimozione lettere duplicate:"
   ]
  },
  {
   "cell_type": "code",
   "execution_count": 49,
   "metadata": {},
   "outputs": [
    {
     "data": {
      "text/plain": [
       "'misp'"
      ]
     },
     "execution_count": 49,
     "metadata": {},
     "output_type": "execute_result"
    }
   ],
   "source": [
    "def remove_duplicates(str1):\n",
    "    new_str = ''\n",
    "    for lett in str1:\n",
    "        if lett not in new_str:\n",
    "            new_str += lett\n",
    "    return new_str\n",
    "\n",
    "remove_duplicates('mississippi')"
   ]
  },
  {
   "cell_type": "markdown",
   "metadata": {},
   "source": [
    "Conteggio occorrenze (anche sovrapposte):"
   ]
  },
  {
   "cell_type": "code",
   "execution_count": 45,
   "metadata": {},
   "outputs": [
    {
     "name": "stdout",
     "output_type": "stream",
     "text": [
      "ban\n",
      "ana\n",
      "nan\n",
      "ana\n",
      "na\n",
      "a\n"
     ]
    },
    {
     "data": {
      "text/plain": [
       "2"
      ]
     },
     "execution_count": 45,
     "metadata": {},
     "output_type": "execute_result"
    }
   ],
   "source": [
    "def count_occurrences(substr, str1):\n",
    "    count = 0\n",
    "    i = 0\n",
    "    length = len(substr)\n",
    "    while i < len(str1):\n",
    "        current = str1[i:(i+length)]\n",
    "        print(current)\n",
    "        if current == substr:\n",
    "            count += 1\n",
    "        i += 1\n",
    "    return count\n",
    "\n",
    "count_occurrences('ana', 'banana')"
   ]
  },
  {
   "cell_type": "markdown",
   "metadata": {},
   "source": [
    "Rimozione occorrenze:"
   ]
  },
  {
   "cell_type": "code",
   "execution_count": 47,
   "metadata": {},
   "outputs": [
    {
     "name": "stdout",
     "output_type": "stream",
     "text": [
      "ban\n",
      "ana\n",
      "na\n",
      "a\n"
     ]
    },
    {
     "data": {
      "text/plain": [
       "'bna'"
      ]
     },
     "execution_count": 47,
     "metadata": {},
     "output_type": "execute_result"
    }
   ],
   "source": [
    "def remove_occurrences(substr, str1):\n",
    "    i = 0\n",
    "    new_str = ''\n",
    "    length = len(substr)\n",
    "    while i < len(str1):\n",
    "        current = str1[i:(i+length)]\n",
    "        print(current)\n",
    "        if current == substr:\n",
    "            i += length\n",
    "        else:          \n",
    "            new_str += str1[i]\n",
    "            i += 1\n",
    "    return new_str\n",
    "\n",
    "remove_occurrences('ana', 'banana')"
   ]
  },
  {
   "cell_type": "code",
   "execution_count": 27,
   "metadata": {},
   "outputs": [
    {
     "name": "stdout",
     "output_type": "stream",
     "text": [
      "bao\n"
     ]
    }
   ],
   "source": [
    "print('bananao'.replace('na', ''))"
   ]
  }
 ],
 "metadata": {
  "kernelspec": {
   "display_name": "Python 3",
   "language": "python",
   "name": "python3"
  },
  "language_info": {
   "codemirror_mode": {
    "name": "ipython",
    "version": 3
   },
   "file_extension": ".py",
   "mimetype": "text/x-python",
   "name": "python",
   "nbconvert_exporter": "python",
   "pygments_lexer": "ipython3",
   "version": "3.10.6"
  },
  "orig_nbformat": 4
 },
 "nbformat": 4,
 "nbformat_minor": 2
}
