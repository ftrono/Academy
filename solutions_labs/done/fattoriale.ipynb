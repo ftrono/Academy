{
 "cells": [
  {
   "cell_type": "markdown",
   "metadata": {},
   "source": [
    "## Fattoriale\n",
    "\n",
    "Senza ricorsione:"
   ]
  },
  {
   "cell_type": "code",
   "execution_count": 1,
   "metadata": {},
   "outputs": [
    {
     "name": "stdout",
     "output_type": "stream",
     "text": [
      "120\n"
     ]
    }
   ],
   "source": [
    "#senza ricorsione, metodo 1:\n",
    "def fattoriale1(num):\n",
    "    if num == 0:\n",
    "        return 1\n",
    "    else:\n",
    "        prodotto = num\n",
    "        for i in range(1,num):\n",
    "            prodotto = prodotto * (num-i)\n",
    "        return prodotto\n",
    "\n",
    "print(fattoriale1(5))"
   ]
  },
  {
   "cell_type": "code",
   "execution_count": 4,
   "metadata": {},
   "outputs": [
    {
     "name": "stdout",
     "output_type": "stream",
     "text": [
      "120\n"
     ]
    }
   ],
   "source": [
    "#senza ricorsione, metodo 2:\n",
    "def fattoriale2(num):\n",
    "    if num == 0:\n",
    "        return 1\n",
    "    else:\n",
    "        prodotto = num\n",
    "        for i in reversed(range(1, num)):\n",
    "            prodotto = prodotto * i\n",
    "        return prodotto\n",
    "\n",
    "print(fattoriale2(5))"
   ]
  },
  {
   "cell_type": "code",
   "execution_count": 5,
   "metadata": {},
   "outputs": [
    {
     "name": "stdout",
     "output_type": "stream",
     "text": [
      "120\n"
     ]
    }
   ],
   "source": [
    "#senza ricorsione, metodo 3:\n",
    "def fattoriale3(num):\n",
    "    if num == 0:\n",
    "        return 1\n",
    "    else:\n",
    "        prodotto = num\n",
    "        for i in range(1, num):\n",
    "            prodotto = prodotto * i\n",
    "        return prodotto\n",
    "\n",
    "print(fattoriale3(5))"
   ]
  },
  {
   "cell_type": "markdown",
   "metadata": {},
   "source": [
    "Con ricorsione:"
   ]
  },
  {
   "cell_type": "code",
   "execution_count": 7,
   "metadata": {},
   "outputs": [
    {
     "data": {
      "text/plain": [
       "120"
      ]
     },
     "execution_count": 7,
     "metadata": {},
     "output_type": "execute_result"
    }
   ],
   "source": [
    "#CON ricorsione:\n",
    "def fattoriale4(num):\n",
    "    if num == 0:\n",
    "        return 1\n",
    "    else:\n",
    "        prodotto = num * fattoriale4(num-1)\n",
    "        return prodotto\n",
    "    \n",
    "fattoriale4(5)"
   ]
  }
 ],
 "metadata": {
  "kernelspec": {
   "display_name": "Python 3",
   "language": "python",
   "name": "python3"
  },
  "language_info": {
   "codemirror_mode": {
    "name": "ipython",
    "version": 3
   },
   "file_extension": ".py",
   "mimetype": "text/x-python",
   "name": "python",
   "nbconvert_exporter": "python",
   "pygments_lexer": "ipython3",
   "version": "3.10.6"
  },
  "orig_nbformat": 4
 },
 "nbformat": 4,
 "nbformat_minor": 2
}
