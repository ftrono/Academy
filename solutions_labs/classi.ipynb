{
 "cells": [
  {
   "cell_type": "markdown",
   "metadata": {},
   "source": [
    "## Classi\n",
    "\n",
    "Ereditarietà e override:"
   ]
  },
  {
   "cell_type": "code",
   "execution_count": 24,
   "metadata": {},
   "outputs": [],
   "source": [
    "class Animal():\n",
    "\tdef __init__(self, name):\n",
    "\t\tself.name = name\n",
    "\n",
    "\tdef saySomething(self):\n",
    "\t\tprint(f\"Sono un {self.name}!\")"
   ]
  },
  {
   "cell_type": "code",
   "execution_count": 25,
   "metadata": {},
   "outputs": [],
   "source": [
    "class Dog(Animal):\n",
    "\tdef saySomething(self):\n",
    "\t\tprint(f\"Sono un {self.name}, e abbaio.\")"
   ]
  },
  {
   "cell_type": "code",
   "execution_count": 26,
   "metadata": {},
   "outputs": [
    {
     "name": "stdout",
     "output_type": "stream",
     "text": [
      "Sono un Chiwawa, e abbaio.\n"
     ]
    }
   ],
   "source": [
    "dog = Dog(\"Chiwawa\")\n",
    "dog.saySomething()"
   ]
  },
  {
   "cell_type": "markdown",
   "metadata": {},
   "source": [
    "Frazioni"
   ]
  },
  {
   "cell_type": "code",
   "execution_count": 27,
   "metadata": {},
   "outputs": [
    {
     "name": "stdout",
     "output_type": "stream",
     "text": [
      "4\n"
     ]
    }
   ],
   "source": [
    "#Per dopo:\n",
    "def max_comune_div(a, b):\n",
    "    while b != 0:\n",
    "        resto = a % b\n",
    "        a = b\n",
    "        b = resto\n",
    "    return a\n",
    "\n",
    "print(max_comune_div(12, 16))"
   ]
  },
  {
   "cell_type": "code",
   "execution_count": 40,
   "metadata": {},
   "outputs": [],
   "source": [
    "class Frazione:\n",
    "    def __init__(self, top, bottom):\n",
    "        self.num = top        # the numerator is on top\n",
    "        self.den = bottom     # the denominator is on the bottom\n",
    "\n",
    "    def __str__(self):\n",
    "        return str(self.num) + \"/\" + str(self.den)\n",
    "\n",
    "    def getNum(self):\n",
    "        return self.num\n",
    "\n",
    "    def getDen(self):\n",
    "        return self.den\n",
    "    \n",
    "    def simplify(self):\n",
    "        mcd = max_comune_div(self.num, self.den)\n",
    "        self.num = self.num // mcd\n",
    "        self.den = self.den // mcd\n",
    "\n",
    "    def add(self, other):\n",
    "        #a/b + c/d = (a*d + c*b) / b*d\n",
    "        newnum = self.num * other.den + self.den * other.num\n",
    "        newden = self.den * other.den\n",
    "        new_fraction = Frazione(newnum, newden)\n",
    "        new_fraction.simplify()\n",
    "        return new_fraction"
   ]
  },
  {
   "cell_type": "code",
   "execution_count": 41,
   "metadata": {},
   "outputs": [
    {
     "name": "stdout",
     "output_type": "stream",
     "text": [
      "16/20\n",
      "16\n",
      "20\n"
     ]
    }
   ],
   "source": [
    "myFrazione = Frazione(16, 20)\n",
    "print(myFrazione)\n",
    "\n",
    "print(myFrazione.getNum())\n",
    "print(myFrazione.getDen())"
   ]
  },
  {
   "cell_type": "code",
   "execution_count": 42,
   "metadata": {},
   "outputs": [
    {
     "name": "stdout",
     "output_type": "stream",
     "text": [
      "4/5\n"
     ]
    }
   ],
   "source": [
    "myFrazione.simplify()\n",
    "print(myFrazione)"
   ]
  },
  {
   "cell_type": "code",
   "execution_count": 48,
   "metadata": {},
   "outputs": [
    {
     "name": "stdout",
     "output_type": "stream",
     "text": [
      "6/5\n"
     ]
    }
   ],
   "source": [
    "f2 = Frazione(8, 20)\n",
    "f3 = myFrazione.add(f2)\n",
    "print(f3)"
   ]
  },
  {
   "cell_type": "markdown",
   "metadata": {},
   "source": [
    "Confronto di 2 frazioni:"
   ]
  },
  {
   "cell_type": "code",
   "execution_count": 36,
   "metadata": {},
   "outputs": [
    {
     "name": "stdout",
     "output_type": "stream",
     "text": [
      "True\n"
     ]
    }
   ],
   "source": [
    "def sameFrazione(f1, f2):\n",
    "    return (f1.getNum() == f2.getNum()) and (f1.getDen() == f2.getDen())\n",
    "\n",
    "a = Frazione(3, 4)\n",
    "b = Frazione(3, 4)\n",
    "\n",
    "print(sameFrazione(a, b))"
   ]
  }
 ],
 "metadata": {
  "kernelspec": {
   "display_name": "Python 3",
   "language": "python",
   "name": "python3"
  },
  "language_info": {
   "codemirror_mode": {
    "name": "ipython",
    "version": 3
   },
   "file_extension": ".py",
   "mimetype": "text/x-python",
   "name": "python",
   "nbconvert_exporter": "python",
   "pygments_lexer": "ipython3",
   "version": "3.10.6"
  },
  "orig_nbformat": 4
 },
 "nbformat": 4,
 "nbformat_minor": 2
}
