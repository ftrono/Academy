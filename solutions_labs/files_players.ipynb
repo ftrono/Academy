{
 "cells": [
  {
   "cell_type": "markdown",
   "metadata": {},
   "source": [
    "## **Lab su Files**\n",
    "\n",
    "#### Conversioni file *Players.txt*\n",
    "\n",
    "Pulizia dataset: conversione da TXT a CSV"
   ]
  },
  {
   "cell_type": "code",
   "execution_count": 2,
   "metadata": {},
   "outputs": [
    {
     "name": "stdout",
     "output_type": "stream",
     "text": [
      "['FirstName', 'LastName', 'Position', 'Team', 'Completions', 'Attempts', 'Yards', 'TDs', 'Ints', 'Comp%', 'Rating']\n",
      "['Colt', 'McCoy', 'QB', 'CLE', '135', '222', '1576', '6', '9', '60.8', '74.5']\n"
     ]
    }
   ],
   "source": [
    "source_file = open(\"../Dataset/players.txt\", 'r')\n",
    "new_file = open(\"../out/players_conv.csv\", 'w')\n",
    "\n",
    "players = []\n",
    "i = 0\n",
    "\n",
    "for line in source_file:\n",
    "    row = line.strip()\n",
    "    if i > 0:\n",
    "        row = row.replace(\"%\", \"\")\n",
    "    row_list = row.split()\n",
    "    players.append(row_list)\n",
    "    new_line = \",\".join(row_list)\n",
    "    new_file.write(f\"{new_line}\\n\")\n",
    "    i += 1\n",
    "\n",
    "source_file.close()\n",
    "new_file.close()\n",
    "\n",
    "print(players[0])\n",
    "print(players[1])"
   ]
  },
  {
   "cell_type": "markdown",
   "metadata": {},
   "source": [
    "Extrazione dati Rating da stringa a print:"
   ]
  },
  {
   "cell_type": "code",
   "execution_count": 3,
   "metadata": {},
   "outputs": [
    {
     "name": "stdout",
     "output_type": "stream",
     "text": [
      "Rating di McCoy, Colt: 74.5.\n",
      "Rating di Freeman, Josh: 95.9.\n",
      "Rating di Vick, Michael: 100.2.\n",
      "Rating di Schaub, Matt: 92.0.\n",
      "Rating di Rivers, Philip: 101.8.\n",
      "Rating di Hasselbeck, Matt: 73.2.\n",
      "Rating di Clausen, Jimmy: 58.4.\n",
      "Rating di Flacco, Joe: 93.6.\n",
      "Rating di Orton, Kyle: 87.5.\n",
      "Rating di Campbell, Jason: 84.5.\n"
     ]
    }
   ],
   "source": [
    "source_file = open(\"../Dataset/players.txt\", 'r')\n",
    "i=0\n",
    "for line in source_file:\n",
    "    if i > 0:\n",
    "        row = line.strip().split()\n",
    "        #Stampo solo le prime 10 righe:\n",
    "        if i <= 10:\n",
    "            print(f\"Rating di {row[1]}, {row[0]}: {row[-1]}.\")\n",
    "        else:\n",
    "            break\n",
    "    i += 1\n",
    "source_file.close()"
   ]
  },
  {
   "cell_type": "markdown",
   "metadata": {},
   "source": [
    "Estrazione dati Rating da stringa a dizionario:"
   ]
  },
  {
   "cell_type": "code",
   "execution_count": 4,
   "metadata": {},
   "outputs": [
    {
     "name": "stdout",
     "output_type": "stream",
     "text": [
      "{'McCoy, Colt': 74.5, 'Freeman, Josh': 95.9, 'Vick, Michael': 100.2, 'Schaub, Matt': 92.0, 'Rivers, Philip': 101.8, 'Hasselbeck, Matt': 73.2, 'Clausen, Jimmy': 58.4, 'Flacco, Joe': 93.6, 'Orton, Kyle': 87.5, 'Campbell, Jason': 84.5, 'Manning, Peyton': 91.9, 'Brees, Drew': 90.9, 'Ryan, Matt': 91.0, 'Cassel, Matt': 93.0, 'Sanchez, Mark': 75.3, 'Favre, Brett': 69.9, 'Garrard, David': 90.8, 'Manning, Eli': 85.3, 'Palmer, Carson': 82.4, 'Smith, Alex': 82.1, 'Henne, Chad': 75.4, 'Romo, Tony': 94.9, 'Cutler, Jay': 86.3, 'Kitna, Jon': 88.9, 'Brady, Tom': 111.0, 'Roethlisberger, Ben': 97.0, 'Collins, Kerry': 82.2, 'Anderson, Derek': 65.9, 'Fitzpatrick, Ryan': 81.8, 'McNabb, Donovan': 77.1, 'Kolb, Kevin': 76.1, 'Rodgers, Aaron': 101.2, 'Bradford, Sam': 76.5, 'Hill, Shaun': 81.3}\n"
     ]
    }
   ],
   "source": [
    "source_file = open(\"../Dataset/players.txt\", 'r')\n",
    "ratings = {}\n",
    "i=0\n",
    "for line in source_file:\n",
    "    if i > 0:\n",
    "        row = line.strip().split()\n",
    "        ratings[f\"{row[1]}, {row[0]}\"] = float(row[-1])\n",
    "    i += 1\n",
    "source_file.close()\n",
    "\n",
    "print(ratings)"
   ]
  },
  {
   "cell_type": "markdown",
   "metadata": {},
   "source": [
    "Strutturare un dizionario come JSON:"
   ]
  },
  {
   "cell_type": "code",
   "execution_count": 5,
   "metadata": {},
   "outputs": [
    {
     "name": "stdout",
     "output_type": "stream",
     "text": [
      "{'McCoy, Colt': {'Position': 'QB', 'Team': 'CLE', 'Completions': 135.0, 'Attempts': 222.0, 'Yards': 1576.0, 'TDs': 6.0, 'Ints': 9.0, 'Comp%': 60.8, 'Rating': 74.5}, 'Freeman, Josh': {'Position': 'QB', 'Team': 'TB', 'Completions': 291.0, 'Attempts': 474.0, 'Yards': 3451.0, 'TDs': 25.0, 'Ints': 6.0, 'Comp%': 61.4, 'Rating': 95.9}, 'Vick, Michael': {'Position': 'QB', 'Team': 'PHI', 'Completions': 233.0, 'Attempts': 372.0, 'Yards': 3018.0, 'TDs': 21.0, 'Ints': 6.0, 'Comp%': 62.6, 'Rating': 100.2}, 'Schaub, Matt': {'Position': 'QB', 'Team': 'HOU', 'Completions': 365.0, 'Attempts': 574.0, 'Yards': 4370.0, 'TDs': 24.0, 'Ints': 12.0, 'Comp%': 63.6, 'Rating': 92.0}, 'Rivers, Philip': {'Position': 'QB', 'Team': 'SD', 'Completions': 357.0, 'Attempts': 541.0, 'Yards': 4710.0, 'TDs': 30.0, 'Ints': 13.0, 'Comp%': 66.0, 'Rating': 101.8}, 'Hasselbeck, Matt': {'Position': 'QB', 'Team': 'SEA', 'Completions': 266.0, 'Attempts': 444.0, 'Yards': 3001.0, 'TDs': 12.0, 'Ints': 17.0, 'Comp%': 59.9, 'Rating': 73.2}, 'Clausen, Jimmy': {'Position': 'QB', 'Team': 'CAR', 'Completions': 157.0, 'Attempts': 299.0, 'Yards': 1558.0, 'TDs': 3.0, 'Ints': 9.0, 'Comp%': 52.5, 'Rating': 58.4}, 'Flacco, Joe': {'Position': 'QB', 'Team': 'BAL', 'Completions': 306.0, 'Attempts': 489.0, 'Yards': 3622.0, 'TDs': 25.0, 'Ints': 10.0, 'Comp%': 62.6, 'Rating': 93.6}, 'Orton, Kyle': {'Position': 'QB', 'Team': 'DEN', 'Completions': 293.0, 'Attempts': 498.0, 'Yards': 3653.0, 'TDs': 20.0, 'Ints': 9.0, 'Comp%': 58.8, 'Rating': 87.5}, 'Campbell, Jason': {'Position': 'QB', 'Team': 'OAK', 'Completions': 194.0, 'Attempts': 329.0, 'Yards': 2387.0, 'TDs': 13.0, 'Ints': 8.0, 'Comp%': 59.0, 'Rating': 84.5}, 'Manning, Peyton': {'Position': 'QB', 'Team': 'IND', 'Completions': 450.0, 'Attempts': 679.0, 'Yards': 4700.0, 'TDs': 33.0, 'Ints': 17.0, 'Comp%': 66.3, 'Rating': 91.9}, 'Brees, Drew': {'Position': 'QB', 'Team': 'NO', 'Completions': 448.0, 'Attempts': 658.0, 'Yards': 4620.0, 'TDs': 33.0, 'Ints': 22.0, 'Comp%': 68.1, 'Rating': 90.9}, 'Ryan, Matt': {'Position': 'QB', 'Team': 'ATL', 'Completions': 357.0, 'Attempts': 571.0, 'Yards': 3705.0, 'TDs': 28.0, 'Ints': 9.0, 'Comp%': 62.5, 'Rating': 91.0}, 'Cassel, Matt': {'Position': 'QB', 'Team': 'KC', 'Completions': 262.0, 'Attempts': 450.0, 'Yards': 3116.0, 'TDs': 27.0, 'Ints': 7.0, 'Comp%': 58.2, 'Rating': 93.0}, 'Sanchez, Mark': {'Position': 'QB', 'Team': 'NYJ', 'Completions': 278.0, 'Attempts': 507.0, 'Yards': 3291.0, 'TDs': 17.0, 'Ints': 13.0, 'Comp%': 54.8, 'Rating': 75.3}, 'Favre, Brett': {'Position': 'QB', 'Team': 'MIN', 'Completions': 217.0, 'Attempts': 358.0, 'Yards': 2509.0, 'TDs': 11.0, 'Ints': 19.0, 'Comp%': 60.6, 'Rating': 69.9}, 'Garrard, David': {'Position': 'QB', 'Team': 'JAC', 'Completions': 236.0, 'Attempts': 366.0, 'Yards': 2734.0, 'TDs': 23.0, 'Ints': 15.0, 'Comp%': 64.5, 'Rating': 90.8}, 'Manning, Eli': {'Position': 'QB', 'Team': 'NYG', 'Completions': 339.0, 'Attempts': 539.0, 'Yards': 4002.0, 'TDs': 31.0, 'Ints': 25.0, 'Comp%': 62.9, 'Rating': 85.3}, 'Palmer, Carson': {'Position': 'QB', 'Team': 'CIN', 'Completions': 362.0, 'Attempts': 586.0, 'Yards': 3970.0, 'TDs': 26.0, 'Ints': 20.0, 'Comp%': 61.8, 'Rating': 82.4}, 'Smith, Alex': {'Position': 'QB', 'Team': 'SF', 'Completions': 204.0, 'Attempts': 342.0, 'Yards': 2370.0, 'TDs': 14.0, 'Ints': 10.0, 'Comp%': 59.6, 'Rating': 82.1}, 'Henne, Chad': {'Position': 'QB', 'Team': 'MIA', 'Completions': 301.0, 'Attempts': 490.0, 'Yards': 3301.0, 'TDs': 15.0, 'Ints': 19.0, 'Comp%': 61.4, 'Rating': 75.4}, 'Romo, Tony': {'Position': 'QB', 'Team': 'DAL', 'Completions': 148.0, 'Attempts': 213.0, 'Yards': 1605.0, 'TDs': 11.0, 'Ints': 7.0, 'Comp%': 69.5, 'Rating': 94.9}, 'Cutler, Jay': {'Position': 'QB', 'Team': 'CHI', 'Completions': 261.0, 'Attempts': 432.0, 'Yards': 3274.0, 'TDs': 23.0, 'Ints': 16.0, 'Comp%': 60.4, 'Rating': 86.3}, 'Kitna, Jon': {'Position': 'QB', 'Team': 'DAL', 'Completions': 209.0, 'Attempts': 318.0, 'Yards': 2365.0, 'TDs': 16.0, 'Ints': 12.0, 'Comp%': 65.7, 'Rating': 88.9}, 'Brady, Tom': {'Position': 'QB', 'Team': 'NE', 'Completions': 324.0, 'Attempts': 492.0, 'Yards': 3900.0, 'TDs': 36.0, 'Ints': 4.0, 'Comp%': 65.9, 'Rating': 111.0}, 'Roethlisberger, Ben': {'Position': 'QB', 'Team': 'PIT', 'Completions': 240.0, 'Attempts': 389.0, 'Yards': 3200.0, 'TDs': 17.0, 'Ints': 5.0, 'Comp%': 61.7, 'Rating': 97.0}, 'Collins, Kerry': {'Position': 'QB', 'Team': 'TEN', 'Completions': 160.0, 'Attempts': 278.0, 'Yards': 1823.0, 'TDs': 14.0, 'Ints': 8.0, 'Comp%': 57.6, 'Rating': 82.2}, 'Anderson, Derek': {'Position': 'QB', 'Team': 'ARI', 'Completions': 169.0, 'Attempts': 327.0, 'Yards': 2065.0, 'TDs': 7.0, 'Ints': 10.0, 'Comp%': 51.7, 'Rating': 65.9}, 'Fitzpatrick, Ryan': {'Position': 'QB', 'Team': 'BUF', 'Completions': 255.0, 'Attempts': 441.0, 'Yards': 3000.0, 'TDs': 23.0, 'Ints': 15.0, 'Comp%': 57.8, 'Rating': 81.8}, 'McNabb, Donovan': {'Position': 'QB', 'Team': 'WAS', 'Completions': 275.0, 'Attempts': 472.0, 'Yards': 3377.0, 'TDs': 14.0, 'Ints': 15.0, 'Comp%': 58.3, 'Rating': 77.1}, 'Kolb, Kevin': {'Position': 'QB', 'Team': 'PHI', 'Completions': 115.0, 'Attempts': 189.0, 'Yards': 1197.0, 'TDs': 7.0, 'Ints': 7.0, 'Comp%': 60.8, 'Rating': 76.1}, 'Rodgers, Aaron': {'Position': 'QB', 'Team': 'GB', 'Completions': 312.0, 'Attempts': 475.0, 'Yards': 3922.0, 'TDs': 28.0, 'Ints': 11.0, 'Comp%': 65.7, 'Rating': 101.2}, 'Bradford, Sam': {'Position': 'QB', 'Team': 'STL', 'Completions': 354.0, 'Attempts': 590.0, 'Yards': 3512.0, 'TDs': 18.0, 'Ints': 15.0, 'Comp%': 60.0, 'Rating': 76.5}, 'Hill, Shaun': {'Position': 'QB', 'Team': 'DET', 'Completions': 257.0, 'Attempts': 416.0, 'Yards': 2686.0, 'TDs': 16.0, 'Ints': 12.0, 'Comp%': 61.8, 'Rating': 81.3}}\n"
     ]
    }
   ],
   "source": [
    "source_file = open(\"../Dataset/players.txt\", 'r')\n",
    "ratings = {}\n",
    "i=0\n",
    "for line in source_file:\n",
    "    if i == 0:\n",
    "        #salvo l'heading:\n",
    "        row = line.strip().split()\n",
    "        heading = row[2:]\n",
    "    else:\n",
    "        row = line.strip().split()\n",
    "        temp = {}\n",
    "        for ind in range(len(heading)):\n",
    "            cur_heading = heading[ind]\n",
    "            #Provo a fare il cast a float. Se il value è un numero funzionerà, altrimenti è una stringa e lo salvo senza cast:\n",
    "            try:\n",
    "                cur_value = float(row[ind+2].replace('%', ''))\n",
    "            except:\n",
    "                cur_value = row[ind+2]\n",
    "            temp[cur_heading] = cur_value\n",
    "        ratings[f\"{row[1]}, {row[0]}\"] = temp\n",
    "    i += 1\n",
    "\n",
    "print(ratings)"
   ]
  },
  {
   "cell_type": "markdown",
   "metadata": {},
   "source": [
    "JSON dump:"
   ]
  },
  {
   "cell_type": "code",
   "execution_count": 6,
   "metadata": {},
   "outputs": [],
   "source": [
    "import json\n",
    "\n",
    "json.dump(ratings, open(\"../out/ratings.json\", 'w'))"
   ]
  },
  {
   "cell_type": "markdown",
   "metadata": {},
   "source": [
    "Reimport JSON:"
   ]
  },
  {
   "cell_type": "code",
   "execution_count": 7,
   "metadata": {},
   "outputs": [
    {
     "name": "stdout",
     "output_type": "stream",
     "text": [
      "{'McCoy, Colt': {'Position': 'QB', 'Team': 'CLE', 'Completions': 135.0, 'Attempts': 222.0, 'Yards': 1576.0, 'TDs': 6.0, 'Ints': 9.0, 'Comp%': 60.8, 'Rating': 74.5}, 'Freeman, Josh': {'Position': 'QB', 'Team': 'TB', 'Completions': 291.0, 'Attempts': 474.0, 'Yards': 3451.0, 'TDs': 25.0, 'Ints': 6.0, 'Comp%': 61.4, 'Rating': 95.9}, 'Vick, Michael': {'Position': 'QB', 'Team': 'PHI', 'Completions': 233.0, 'Attempts': 372.0, 'Yards': 3018.0, 'TDs': 21.0, 'Ints': 6.0, 'Comp%': 62.6, 'Rating': 100.2}, 'Schaub, Matt': {'Position': 'QB', 'Team': 'HOU', 'Completions': 365.0, 'Attempts': 574.0, 'Yards': 4370.0, 'TDs': 24.0, 'Ints': 12.0, 'Comp%': 63.6, 'Rating': 92.0}, 'Rivers, Philip': {'Position': 'QB', 'Team': 'SD', 'Completions': 357.0, 'Attempts': 541.0, 'Yards': 4710.0, 'TDs': 30.0, 'Ints': 13.0, 'Comp%': 66.0, 'Rating': 101.8}, 'Hasselbeck, Matt': {'Position': 'QB', 'Team': 'SEA', 'Completions': 266.0, 'Attempts': 444.0, 'Yards': 3001.0, 'TDs': 12.0, 'Ints': 17.0, 'Comp%': 59.9, 'Rating': 73.2}, 'Clausen, Jimmy': {'Position': 'QB', 'Team': 'CAR', 'Completions': 157.0, 'Attempts': 299.0, 'Yards': 1558.0, 'TDs': 3.0, 'Ints': 9.0, 'Comp%': 52.5, 'Rating': 58.4}, 'Flacco, Joe': {'Position': 'QB', 'Team': 'BAL', 'Completions': 306.0, 'Attempts': 489.0, 'Yards': 3622.0, 'TDs': 25.0, 'Ints': 10.0, 'Comp%': 62.6, 'Rating': 93.6}, 'Orton, Kyle': {'Position': 'QB', 'Team': 'DEN', 'Completions': 293.0, 'Attempts': 498.0, 'Yards': 3653.0, 'TDs': 20.0, 'Ints': 9.0, 'Comp%': 58.8, 'Rating': 87.5}, 'Campbell, Jason': {'Position': 'QB', 'Team': 'OAK', 'Completions': 194.0, 'Attempts': 329.0, 'Yards': 2387.0, 'TDs': 13.0, 'Ints': 8.0, 'Comp%': 59.0, 'Rating': 84.5}, 'Manning, Peyton': {'Position': 'QB', 'Team': 'IND', 'Completions': 450.0, 'Attempts': 679.0, 'Yards': 4700.0, 'TDs': 33.0, 'Ints': 17.0, 'Comp%': 66.3, 'Rating': 91.9}, 'Brees, Drew': {'Position': 'QB', 'Team': 'NO', 'Completions': 448.0, 'Attempts': 658.0, 'Yards': 4620.0, 'TDs': 33.0, 'Ints': 22.0, 'Comp%': 68.1, 'Rating': 90.9}, 'Ryan, Matt': {'Position': 'QB', 'Team': 'ATL', 'Completions': 357.0, 'Attempts': 571.0, 'Yards': 3705.0, 'TDs': 28.0, 'Ints': 9.0, 'Comp%': 62.5, 'Rating': 91.0}, 'Cassel, Matt': {'Position': 'QB', 'Team': 'KC', 'Completions': 262.0, 'Attempts': 450.0, 'Yards': 3116.0, 'TDs': 27.0, 'Ints': 7.0, 'Comp%': 58.2, 'Rating': 93.0}, 'Sanchez, Mark': {'Position': 'QB', 'Team': 'NYJ', 'Completions': 278.0, 'Attempts': 507.0, 'Yards': 3291.0, 'TDs': 17.0, 'Ints': 13.0, 'Comp%': 54.8, 'Rating': 75.3}, 'Favre, Brett': {'Position': 'QB', 'Team': 'MIN', 'Completions': 217.0, 'Attempts': 358.0, 'Yards': 2509.0, 'TDs': 11.0, 'Ints': 19.0, 'Comp%': 60.6, 'Rating': 69.9}, 'Garrard, David': {'Position': 'QB', 'Team': 'JAC', 'Completions': 236.0, 'Attempts': 366.0, 'Yards': 2734.0, 'TDs': 23.0, 'Ints': 15.0, 'Comp%': 64.5, 'Rating': 90.8}, 'Manning, Eli': {'Position': 'QB', 'Team': 'NYG', 'Completions': 339.0, 'Attempts': 539.0, 'Yards': 4002.0, 'TDs': 31.0, 'Ints': 25.0, 'Comp%': 62.9, 'Rating': 85.3}, 'Palmer, Carson': {'Position': 'QB', 'Team': 'CIN', 'Completions': 362.0, 'Attempts': 586.0, 'Yards': 3970.0, 'TDs': 26.0, 'Ints': 20.0, 'Comp%': 61.8, 'Rating': 82.4}, 'Smith, Alex': {'Position': 'QB', 'Team': 'SF', 'Completions': 204.0, 'Attempts': 342.0, 'Yards': 2370.0, 'TDs': 14.0, 'Ints': 10.0, 'Comp%': 59.6, 'Rating': 82.1}, 'Henne, Chad': {'Position': 'QB', 'Team': 'MIA', 'Completions': 301.0, 'Attempts': 490.0, 'Yards': 3301.0, 'TDs': 15.0, 'Ints': 19.0, 'Comp%': 61.4, 'Rating': 75.4}, 'Romo, Tony': {'Position': 'QB', 'Team': 'DAL', 'Completions': 148.0, 'Attempts': 213.0, 'Yards': 1605.0, 'TDs': 11.0, 'Ints': 7.0, 'Comp%': 69.5, 'Rating': 94.9}, 'Cutler, Jay': {'Position': 'QB', 'Team': 'CHI', 'Completions': 261.0, 'Attempts': 432.0, 'Yards': 3274.0, 'TDs': 23.0, 'Ints': 16.0, 'Comp%': 60.4, 'Rating': 86.3}, 'Kitna, Jon': {'Position': 'QB', 'Team': 'DAL', 'Completions': 209.0, 'Attempts': 318.0, 'Yards': 2365.0, 'TDs': 16.0, 'Ints': 12.0, 'Comp%': 65.7, 'Rating': 88.9}, 'Brady, Tom': {'Position': 'QB', 'Team': 'NE', 'Completions': 324.0, 'Attempts': 492.0, 'Yards': 3900.0, 'TDs': 36.0, 'Ints': 4.0, 'Comp%': 65.9, 'Rating': 111.0}, 'Roethlisberger, Ben': {'Position': 'QB', 'Team': 'PIT', 'Completions': 240.0, 'Attempts': 389.0, 'Yards': 3200.0, 'TDs': 17.0, 'Ints': 5.0, 'Comp%': 61.7, 'Rating': 97.0}, 'Collins, Kerry': {'Position': 'QB', 'Team': 'TEN', 'Completions': 160.0, 'Attempts': 278.0, 'Yards': 1823.0, 'TDs': 14.0, 'Ints': 8.0, 'Comp%': 57.6, 'Rating': 82.2}, 'Anderson, Derek': {'Position': 'QB', 'Team': 'ARI', 'Completions': 169.0, 'Attempts': 327.0, 'Yards': 2065.0, 'TDs': 7.0, 'Ints': 10.0, 'Comp%': 51.7, 'Rating': 65.9}, 'Fitzpatrick, Ryan': {'Position': 'QB', 'Team': 'BUF', 'Completions': 255.0, 'Attempts': 441.0, 'Yards': 3000.0, 'TDs': 23.0, 'Ints': 15.0, 'Comp%': 57.8, 'Rating': 81.8}, 'McNabb, Donovan': {'Position': 'QB', 'Team': 'WAS', 'Completions': 275.0, 'Attempts': 472.0, 'Yards': 3377.0, 'TDs': 14.0, 'Ints': 15.0, 'Comp%': 58.3, 'Rating': 77.1}, 'Kolb, Kevin': {'Position': 'QB', 'Team': 'PHI', 'Completions': 115.0, 'Attempts': 189.0, 'Yards': 1197.0, 'TDs': 7.0, 'Ints': 7.0, 'Comp%': 60.8, 'Rating': 76.1}, 'Rodgers, Aaron': {'Position': 'QB', 'Team': 'GB', 'Completions': 312.0, 'Attempts': 475.0, 'Yards': 3922.0, 'TDs': 28.0, 'Ints': 11.0, 'Comp%': 65.7, 'Rating': 101.2}, 'Bradford, Sam': {'Position': 'QB', 'Team': 'STL', 'Completions': 354.0, 'Attempts': 590.0, 'Yards': 3512.0, 'TDs': 18.0, 'Ints': 15.0, 'Comp%': 60.0, 'Rating': 76.5}, 'Hill, Shaun': {'Position': 'QB', 'Team': 'DET', 'Completions': 257.0, 'Attempts': 416.0, 'Yards': 2686.0, 'TDs': 16.0, 'Ints': 12.0, 'Comp%': 61.8, 'Rating': 81.3}}\n"
     ]
    }
   ],
   "source": [
    "ratings_reimported = json.load(open(\"../out/ratings.json\", 'r'))\n",
    "\n",
    "print(ratings_reimported)"
   ]
  }
 ],
 "metadata": {
  "kernelspec": {
   "display_name": "Python 3",
   "language": "python",
   "name": "python3"
  },
  "language_info": {
   "codemirror_mode": {
    "name": "ipython",
    "version": 3
   },
   "file_extension": ".py",
   "mimetype": "text/x-python",
   "name": "python",
   "nbconvert_exporter": "python",
   "pygments_lexer": "ipython3",
   "version": "3.10.6"
  },
  "orig_nbformat": 4
 },
 "nbformat": 4,
 "nbformat_minor": 2
}
