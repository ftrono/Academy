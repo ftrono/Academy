{
 "cells": [
  {
   "cell_type": "markdown",
   "metadata": {},
   "source": [
    "# **Python - Esercizio ListaSpesa**\n",
    "\n",
    "### **Classi e OOP**\n",
    "\n",
    "#### Prodotto"
   ]
  },
  {
   "cell_type": "code",
   "execution_count": 17,
   "metadata": {},
   "outputs": [],
   "source": [
    "class Prodotto:\n",
    "    def __init__(self, nome, quantità, prezzo):\n",
    "        self.nome = nome\n",
    "        self.quantità = quantità\n",
    "        self.prezzo = prezzo"
   ]
  },
  {
   "cell_type": "markdown",
   "metadata": {},
   "source": [
    "#### ListaSpesa"
   ]
  },
  {
   "cell_type": "code",
   "execution_count": 18,
   "metadata": {},
   "outputs": [],
   "source": [
    "class ListaSpesa:\n",
    "    def __init__(self):\n",
    "        self.items = {}   #{name: Prodotto()}\n",
    "\n",
    "    def add_item(self, name, quantità, prezzo):\n",
    "        if name in self.items.keys():\n",
    "            print(f\"Prodotto '{name}' già in lista!\")\n",
    "        else:\n",
    "            #creo nuovo oggetto di tipo Prodotto():\n",
    "            prodotto = Prodotto(name, quantità, prezzo)\n",
    "            #aggiungo l'item al dizionario self.items in formato: {'nome': oggetto}\n",
    "            self.items[name] = prodotto\n",
    "            print(f\"Prodotto '{name}' aggiunto.\")\n",
    "            \n",
    "    \n",
    "    def remove_item(self, name):\n",
    "        if name not in self.items.keys():\n",
    "            print(f\"Prodotto '{name}' non in lista!\")\n",
    "        else:\n",
    "            del self.items[name]\n",
    "\n",
    "    def get_quantità(self, name):\n",
    "        if name not in self.items.keys():\n",
    "            print(f\"Prodotto '{name}' non in lista!\")\n",
    "        else:\n",
    "            #carico dal dizionario l'oggetto Prodotto() (value) corrispondente al name (key):\n",
    "            prodotto = self.items[name]\n",
    "            #ne estraggo l'attributo che mi serve:\n",
    "            quantità = prodotto.quantità\n",
    "            #singolare / plurale:\n",
    "            lettera = 'o' if quantità == 1 else 'i'\n",
    "            print(f\"{name.title()}: {quantità} pezz{lettera}.\")\n",
    "        return quantità\n",
    "    \n",
    "    def get_prezzo(self, name):\n",
    "        if name not in self.items.keys():\n",
    "            print(f\"Prodotto '{name}' non in lista!\")\n",
    "        else:\n",
    "            #carico dal dizionario l'oggetto Prodotto() (value) corrispondente al name (key):\n",
    "            prodotto = self.items[name]\n",
    "            #ne estraggo l'attributo che mi serve:\n",
    "            prezzo = prodotto.prezzo\n",
    "            print(f\"{name.title()}: {prezzo} Euro per pezzo.\")\n",
    "        return prezzo\n",
    "    \n",
    "    def get_spesa(self, name):\n",
    "        if name not in self.items.keys():\n",
    "            print(f\"Prodotto '{name}' non in lista!\")\n",
    "        else:\n",
    "            #carico dal dizionario l'oggetto Prodotto() (value) corrispondente al name (key):\n",
    "            prodotto = self.items[name]\n",
    "            #ne estraggo gli attributi:\n",
    "            quantità = prodotto.quantità\n",
    "            prezzo = prodotto.prezzo\n",
    "            #calcolo la spesa:\n",
    "            spesa = quantità*prezzo\n",
    "            print(f\"{name.title()}: {spesa:.2f} Euro.\")\n",
    "        return spesa\n",
    "    \n",
    "    def totale_pezzi(self):\n",
    "        totale = 0\n",
    "        for prodotto in self.items.values():\n",
    "            totale += prodotto.quantità\n",
    "        #singolare / plurale:\n",
    "        lettera = 'o' if totale == 1 else 'i'\n",
    "        print(f'TOTALE LISTA: {totale} pezz{lettera}.')\n",
    "        return totale\n",
    "    \n",
    "    def totale_spesa(self):\n",
    "        totale = 0\n",
    "        for prodotto in self.items.values():\n",
    "            spesa_prodotto = prodotto.prezzo * prodotto.quantità\n",
    "            totale += spesa_prodotto\n",
    "        print(f'SPESA TOTALE PREVISTA: {totale:.2f} Euro.')\n",
    "        return totale\n",
    "    \n",
    "    def __str__(self):\n",
    "        totale_q = 0\n",
    "        totale_spesa = 0\n",
    "        #compongo una stringa a più righe (uso '\\n', da mettere alla fine di una riga oppure all'inizio della riga seguente):\n",
    "        list_str = 'LISTA DELLA SPESA:'\n",
    "        for name in self.items.keys():\n",
    "            #carico dal dizionario l'oggetto Prodotto() (value) corrispondente al name (key):\n",
    "            prodotto = self.items[name]\n",
    "            #ne estraggo gli attributi:\n",
    "            quantità = prodotto.quantità\n",
    "            prezzo = prodotto.prezzo\n",
    "            #singolare / plurale:\n",
    "            lettera = 'o' if quantità == 1 else 'i'\n",
    "            list_str += f\"\\n- {name.title()}: {quantità} pezz{lettera}, {prezzo:.2f} Euro, spesa prevista: {prezzo*quantità:.2f} Euro.\"\n",
    "            #incremento totali:\n",
    "            totale_q += quantità\n",
    "            totale_spesa += quantità*prezzo\n",
    "        lettera = 'o' if totale_q == 1 else 'i'\n",
    "        list_str += f'\\nTOTALE: {totale_q} pezz{lettera}, spesa prevista: {totale_spesa:.2f} Euro.'\n",
    "        return list_str"
   ]
  },
  {
   "cell_type": "markdown",
   "metadata": {},
   "source": [
    "#### Main"
   ]
  },
  {
   "cell_type": "code",
   "execution_count": 19,
   "metadata": {},
   "outputs": [
    {
     "name": "stdout",
     "output_type": "stream",
     "text": [
      "Prodotto 'arance' aggiunto.\n",
      "Prodotto 'angurie' aggiunto.\n",
      "Angurie: 5 pezzi.\n",
      "Angurie: 3 Euro per pezzo.\n",
      "Angurie: 15.00 Euro.\n",
      "TOTALE LISTA: 11 pezzi.\n",
      "SPESA TOTALE PREVISTA: 27.00 Euro.\n"
     ]
    },
    {
     "data": {
      "text/plain": [
       "27"
      ]
     },
     "execution_count": 19,
     "metadata": {},
     "output_type": "execute_result"
    }
   ],
   "source": [
    "mylist = ListaSpesa()\n",
    "mylist.add_item('arance', quantità=6, prezzo=2)\n",
    "mylist.add_item('angurie', quantità=5, prezzo=3)\n",
    "mylist.get_quantità('angurie')\n",
    "mylist.get_prezzo('angurie')\n",
    "mylist.get_spesa('angurie')\n",
    "mylist.totale_pezzi()\n",
    "mylist.totale_spesa()"
   ]
  },
  {
   "cell_type": "code",
   "execution_count": 20,
   "metadata": {},
   "outputs": [
    {
     "name": "stdout",
     "output_type": "stream",
     "text": [
      "LISTA DELLA SPESA:\n",
      "- Arance: 6 pezzi, 2.00 Euro, spesa prevista: 12.00 Euro.\n",
      "- Angurie: 5 pezzi, 3.00 Euro, spesa prevista: 15.00 Euro.\n",
      "TOTALE: 11 pezzi, spesa prevista: 27.00 Euro.\n"
     ]
    }
   ],
   "source": [
    "print(mylist)"
   ]
  }
 ],
 "metadata": {
  "kernelspec": {
   "display_name": "Python 3",
   "language": "python",
   "name": "python3"
  },
  "language_info": {
   "codemirror_mode": {
    "name": "ipython",
    "version": 3
   },
   "file_extension": ".py",
   "mimetype": "text/x-python",
   "name": "python",
   "nbconvert_exporter": "python",
   "pygments_lexer": "ipython3",
   "version": "3.10.6"
  },
  "orig_nbformat": 4
 },
 "nbformat": 4,
 "nbformat_minor": 2
}
