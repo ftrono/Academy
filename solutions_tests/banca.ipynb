{
 "cells": [
  {
   "cell_type": "markdown",
   "metadata": {},
   "source": [
    "# **Python - Esercizio Banca**\n",
    "\n",
    "### **Classi e OOP**\n",
    "\n",
    "#### Banca"
   ]
  },
  {
   "cell_type": "code",
   "execution_count": 33,
   "metadata": {},
   "outputs": [],
   "source": [
    "import random\n",
    "from datetime import datetime"
   ]
  },
  {
   "cell_type": "markdown",
   "metadata": {},
   "source": [
    "#### Cliente"
   ]
  },
  {
   "cell_type": "code",
   "execution_count": 34,
   "metadata": {},
   "outputs": [],
   "source": [
    "class Cliente():\n",
    "    def __init__(self, cognome, nome):\n",
    "        self.cognome = cognome\n",
    "        self.nome = nome\n",
    "        #inizializzo numero conto random a 8 cifre al momento della creazione dell'istanza di Cliente():\n",
    "        self.numero_conto = random.randrange(10000000, 99999999)\n",
    "        self.saldo = 0   #init a 0\n",
    "        self.transazioni = []"
   ]
  },
  {
   "cell_type": "markdown",
   "metadata": {},
   "source": [
    "#### Banca"
   ]
  },
  {
   "cell_type": "code",
   "execution_count": 35,
   "metadata": {},
   "outputs": [],
   "source": [
    "class Banca():\n",
    "    def __init__(self):\n",
    "        self.clienti = {}   #{numero_conto: Cliente}\n",
    "    \n",
    "    def crea_conto(self, cognome, nome):\n",
    "        cliente = Cliente(cognome, nome)\n",
    "        #salvo cliente in dizionario self.clienti in formato {numero_conto: Cliente}:\n",
    "        numero_conto = cliente.numero_conto\n",
    "        self.clienti[numero_conto] = cliente\n",
    "        print(f\"Creato conto {numero_conto} per {nome.title()} {cognome.title()}\")\n",
    "        return cliente.numero_conto\n",
    "    \n",
    "    def fai_versamento(self, conto, importo):\n",
    "        cliente = self.clienti.get(conto)\n",
    "        if cliente == None:\n",
    "            print(f\"Nessun conto {conto} trovato.\")\n",
    "            return -1\n",
    "        else:\n",
    "            if importo <= 0:\n",
    "                print(f\"{conto}: Importo non valido per il prelievo.\")\n",
    "                return -1\n",
    "            else:\n",
    "                #effettuo la transazione e la registro negli attributi saldo e lista delle transazioni (con la timestamp):\n",
    "                cliente.saldo += importo\n",
    "                now = datetime.now().strftime(\"%Y/%m/%d, %H:%M:%S\")\n",
    "                operazione = [now, conto, importo]\n",
    "                cliente.transazioni.append(operazione)\n",
    "                print(f\"{conto}: Effettuato versamento di Euro {importo:,.2f}, nuovo saldo: Euro {cliente.saldo:,.2f}\")\n",
    "            return 0\n",
    "    \n",
    "    def fai_prelievo(self, conto, importo):\n",
    "        cliente = self.clienti.get(conto)\n",
    "        if cliente == None:\n",
    "            print(f\"Nessun conto {conto} trovato.\")\n",
    "            return -1\n",
    "        else:\n",
    "            if importo <= 0:\n",
    "                print(f\"{conto}: Importo non valido per il prelievo.\")\n",
    "                return -1\n",
    "            elif importo <= cliente.saldo:\n",
    "                #effettuo la transazione e la registro negli attributi saldo e lista delle transazioni (con la timestamp):\n",
    "                cliente.saldo -= importo\n",
    "                now = datetime.now().strftime(\"%Y/%m/%d, %H:%M:%S\")\n",
    "                #occhio al segno dell'importo:\n",
    "                operazione = [now, conto, -importo]\n",
    "                cliente.transazioni.append(operazione)\n",
    "                print(f\"{conto}: Effettuato prelievo di Euro {importo:,.2f}, nuovo saldo: Euro {cliente.saldo:,.2f}\")\n",
    "                return 0\n",
    "            else:\n",
    "                print(f\"{conto}: Saldo non disponibile!\")\n",
    "                return -1\n",
    "    \n",
    "    def fai_bonifico(self, conto_sender, conto_receiver, importo):\n",
    "        sender = self.clienti.get(conto_sender)\n",
    "        receiver = self.clienti.get(conto_receiver)\n",
    "        if sender == None:\n",
    "            print(f\"Nessun conto {conto_sender} trovato.\")\n",
    "            return -1\n",
    "        elif receiver == None:\n",
    "            print(f\"Nessun conto {conto_receiver} trovato.\")\n",
    "            return -1\n",
    "        else:\n",
    "            if importo <= 0:\n",
    "                print(f\"{sender}: Importo non valido per il bonifico.\")\n",
    "                return -1\n",
    "            elif importo <= sender.saldo and importo > 0:\n",
    "                #effettuo la transazione e la registro negli attributi saldo e lista delle transazioni (con la timestamp):\n",
    "                sender.saldo -= importo\n",
    "                receiver.saldo += importo\n",
    "                now = datetime.now().strftime(\"%Y/%m/%d, %H:%M:%S\")\n",
    "                #devo salvare nella lista delle transazioni sender il conto della controparte. Occhio anche al segno:\n",
    "                operazione_sender = [now, conto_receiver, -importo]\n",
    "                sender.transazioni.append(operazione_sender)\n",
    "                #devo salvare nella lista delle transazioni receiver il conto della controparte. Occhio anche al segno:\n",
    "                operazione_receiver = [now, conto_sender, importo]\n",
    "                receiver.transazioni.append(operazione_receiver)\n",
    "                print(f\"{conto_sender}: Effettuato bonifico di Euro {importo:,.2f} verso {conto_receiver}.\")\n",
    "                return 0\n",
    "            else:\n",
    "                print(f\"{conto_sender}: Saldo non disponibile!\")\n",
    "                return -1\n",
    "\n",
    "    def get_saldo_cliente(self, conto):\n",
    "        cliente = self.clienti.get(conto)\n",
    "        if cliente == None:\n",
    "            print(f\"Nessun conto {conto} trovato.\")\n",
    "            return -1\n",
    "        else:\n",
    "            print(f\"{conto}: Saldo disponibile: Euro {cliente.saldo:,.2f}\")\n",
    "            return cliente.saldo\n",
    "    \n",
    "    def get_transazioni_cliente(self, conto):\n",
    "        cliente = self.clienti.get(conto)\n",
    "        if cliente == None:\n",
    "            print(f\"Nessun conto {conto} trovato.\")\n",
    "            return -1\n",
    "        else:\n",
    "            #compongo una stringa a più righe (uso '\\n', da mettere alla fine di una riga oppure all'inizio della riga seguente):\n",
    "            str_transazioni = f\"LISTA TRANSAZIONI PER CONTO {conto}:\"\n",
    "            lista_transazioni = cliente.transazioni\n",
    "            #lista_transazioni contiene: [data e ora già in formato stringa, conto_destinatario, importo]\n",
    "            for transazione in lista_transazioni:\n",
    "                str_transazioni += f\"\\n- {transazione[0]}: \"\n",
    "                #se il destinatario salvato è lo stesso conto del cliente:\n",
    "                if transazione[1] == conto:\n",
    "                    #allora l'operazione è un prelievo / versamento:\n",
    "                    str_transazioni += \"Prelievo\" if transazione[2] < 0 else \"Versamento\"\n",
    "                else:\n",
    "                    #se l'operazione è bonifico:\n",
    "                    str_transazioni += f\"Bonifico verso conto: {transazione[1]}\" if transazione[2] < 0 else f\"Bonifico da conto: {transazione[1]}\"\n",
    "                str_transazioni += f\", Euro {transazione[2]:,.2f}\"\n",
    "            str_transazioni += f\"\\nSaldo finale: Euro {cliente.saldo:,.2f}\"\n",
    "            print(str_transazioni)\n",
    "            return 0\n",
    "\n",
    "    def __str__(self):\n",
    "        vista = \"\"\"VISTA CONTI BANCA:\"\"\"\n",
    "        for conto in self.clienti.keys():\n",
    "            cliente = self.clienti[conto]\n",
    "            vista += f\"\\n{cliente.numero_conto}: {cliente.cognome.title()}, {cliente.nome.title()}, Euro {cliente.saldo:,.2f}\"\n",
    "        return vista           \n"
   ]
  },
  {
   "cell_type": "markdown",
   "metadata": {},
   "source": [
    "#### Main"
   ]
  },
  {
   "cell_type": "code",
   "execution_count": 36,
   "metadata": {},
   "outputs": [
    {
     "name": "stdout",
     "output_type": "stream",
     "text": [
      "Creato conto 98772877 per Giangirolamo Bocconcelli\n",
      "98772877: Effettuato versamento di Euro 1,000,000.00, nuovo saldo: Euro 1,000,000.00\n",
      "98772877: Effettuato prelievo di Euro 200.00, nuovo saldo: Euro 999,800.00\n"
     ]
    },
    {
     "data": {
      "text/plain": [
       "0"
      ]
     },
     "execution_count": 36,
     "metadata": {},
     "output_type": "execute_result"
    }
   ],
   "source": [
    "banca = Banca()\n",
    "conto1 = banca.crea_conto('bocconcelli', 'giangirolamo')\n",
    "banca.fai_versamento(conto1, 1000000)\n",
    "banca.fai_prelievo(conto1, 200)"
   ]
  },
  {
   "cell_type": "code",
   "execution_count": 37,
   "metadata": {},
   "outputs": [
    {
     "name": "stdout",
     "output_type": "stream",
     "text": [
      "Creato conto 89095629 per Maurizio Meloncelli\n",
      "89095629: Effettuato versamento di Euro 500,000.00, nuovo saldo: Euro 500,000.00\n",
      "89095629: Effettuato prelievo di Euro 100.00, nuovo saldo: Euro 499,900.00\n",
      "89095629: Saldo disponibile: Euro 499,900.00\n"
     ]
    },
    {
     "data": {
      "text/plain": [
       "499900"
      ]
     },
     "execution_count": 37,
     "metadata": {},
     "output_type": "execute_result"
    }
   ],
   "source": [
    "conto2 = banca.crea_conto('meloncelli', 'maurizio')\n",
    "banca.fai_versamento(conto2, 500000)\n",
    "banca.fai_prelievo(conto2, 100)\n",
    "banca.get_saldo_cliente(conto2)"
   ]
  },
  {
   "cell_type": "code",
   "execution_count": 38,
   "metadata": {},
   "outputs": [
    {
     "name": "stdout",
     "output_type": "stream",
     "text": [
      "98772877: Effettuato bonifico di Euro 500.00 verso 89095629.\n",
      "LISTA TRANSAZIONI PER CONTO 98772877:\n",
      "- 2023/10/01, 10:32:09: Versamento, Euro 1,000,000.00\n",
      "- 2023/10/01, 10:32:09: Prelievo, Euro -200.00\n",
      "- 2023/10/01, 10:32:09: Bonifico verso conto: 89095629, Euro -500.00\n",
      "Saldo finale: Euro 999,300.00\n"
     ]
    },
    {
     "data": {
      "text/plain": [
       "0"
      ]
     },
     "execution_count": 38,
     "metadata": {},
     "output_type": "execute_result"
    }
   ],
   "source": [
    "banca.fai_bonifico(conto1, conto2, 500)\n",
    "banca.get_transazioni_cliente(conto1)"
   ]
  },
  {
   "cell_type": "code",
   "execution_count": 39,
   "metadata": {},
   "outputs": [
    {
     "name": "stdout",
     "output_type": "stream",
     "text": [
      "LISTA TRANSAZIONI PER CONTO 89095629:\n",
      "- 2023/10/01, 10:32:09: Versamento, Euro 500,000.00\n",
      "- 2023/10/01, 10:32:09: Prelievo, Euro -100.00\n",
      "- 2023/10/01, 10:32:09: Bonifico da conto: 98772877, Euro 500.00\n",
      "Saldo finale: Euro 500,400.00\n"
     ]
    },
    {
     "data": {
      "text/plain": [
       "0"
      ]
     },
     "execution_count": 39,
     "metadata": {},
     "output_type": "execute_result"
    }
   ],
   "source": [
    "banca.get_transazioni_cliente(conto2)"
   ]
  },
  {
   "cell_type": "code",
   "execution_count": 40,
   "metadata": {},
   "outputs": [
    {
     "name": "stdout",
     "output_type": "stream",
     "text": [
      "VISTA CONTI BANCA:\n",
      "98772877: Bocconcelli, Giangirolamo, Euro 999,300.00\n",
      "89095629: Meloncelli, Maurizio, Euro 500,400.00\n"
     ]
    }
   ],
   "source": [
    "print(banca)"
   ]
  }
 ],
 "metadata": {
  "kernelspec": {
   "display_name": "Python 3",
   "language": "python",
   "name": "python3"
  },
  "language_info": {
   "codemirror_mode": {
    "name": "ipython",
    "version": 3
   },
   "file_extension": ".py",
   "mimetype": "text/x-python",
   "name": "python",
   "nbconvert_exporter": "python",
   "pygments_lexer": "ipython3",
   "version": "3.10.6"
  },
  "orig_nbformat": 4
 },
 "nbformat": 4,
 "nbformat_minor": 2
}
